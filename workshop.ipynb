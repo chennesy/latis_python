{
 "cells": [
  {
   "cell_type": "markdown",
   "metadata": {},
   "source": [
    "# Introduction to Python for Social Science\n",
    "- UMN LATIS workshop, Oct 16, 2020\n",
    "- Michael Beckstrand (mjbeckst@umn.edu) and Cody Hennesy (chennesy@umn.edu)\n",
    "\n",
    "* Use Python 3 in a JupyterLab computing environment\n",
    "* Use Python to grab data from a large number of files quickly\n",
    "* Load a comma-delimited spreadsheet (.csv) into Pandas as a dataframe\n",
    "* View and clean that data\n",
    "* Save cleaned data file in formats for later use"
   ]
  },
  {
   "cell_type": "markdown",
   "metadata": {},
   "source": [
    "### Jupyter lab environment\n",
    "- How to navigate the directory of folders\n",
    "- How to create a cell\n",
    "- How to run a cell"
   ]
  },
  {
   "cell_type": "markdown",
   "metadata": {},
   "source": [
    "### Variables\n",
    "- To \"run\" a Jupyter cell hold down shift and select Return/Enter, or choose the \"play icon\" (right-facing triangle) from the Jupyter menu above. \n",
    "\n",
    "In Python, variable names:\n",
    "\n",
    "* can include letters, digits, and underscores\n",
    "* cannot start with a digit\n",
    "* are case sensitive.\n",
    "\n",
    "You can do calculations and save text strings in variables too."
   ]
  },
  {
   "cell_type": "code",
   "execution_count": 27,
   "metadata": {},
   "outputs": [
    {
     "name": "stdout",
     "output_type": "stream",
     "text": [
      "140\n"
     ]
    }
   ],
   "source": [
    "weight_1 = 140\n",
    "print(weight_1)"
   ]
  },
  {
   "cell_type": "code",
   "execution_count": 28,
   "metadata": {},
   "outputs": [
    {
     "name": "stdout",
     "output_type": "stream",
     "text": [
      "200\n"
     ]
    }
   ],
   "source": [
    "weight_2 = 60\n",
    "print(weight_1 + weight_2)"
   ]
  },
  {
   "cell_type": "code",
   "execution_count": 29,
   "metadata": {},
   "outputs": [
    {
     "name": "stdout",
     "output_type": "stream",
     "text": [
      "This is a string of text.\n"
     ]
    }
   ],
   "source": [
    "sentence = \"This is a string of text.\"\n",
    "print(sentence)"
   ]
  },
  {
   "cell_type": "markdown",
   "metadata": {},
   "source": [
    "### Types\n",
    "Everything in Python is some type of object. Objects contain attributes, usually data and related functions,\n",
    "called methods."
   ]
  },
  {
   "cell_type": "code",
   "execution_count": 30,
   "metadata": {},
   "outputs": [
    {
     "name": "stdout",
     "output_type": "stream",
     "text": [
      "<class 'int'>\n",
      "<class 'str'>\n",
      "<class 'float'>\n",
      "<class 'builtin_function_or_method'>\n"
     ]
    }
   ],
   "source": [
    "print(type(weight_1))\n",
    "print(type(sentence))\n",
    "print(type(140.0))\n",
    "print(type(print))"
   ]
  },
  {
   "cell_type": "markdown",
   "metadata": {},
   "source": [
    "### Lists\n",
    "\n",
    "The most popular kind of data collection in Python is the list, which takes the place of arrays in programming languages like C and Fortran.\n",
    "Lists have two primary important characteristics:\n",
    "1. They are mutable, i.e., they can be changed after they are created.\n",
    "2. They are heterogeneous, i.e., they can store values of many different types.\n",
    "\n",
    "To create a new list, you can just put some values in square brackets with commas in between."
   ]
  },
  {
   "cell_type": "code",
   "execution_count": 31,
   "metadata": {},
   "outputs": [
    {
     "name": "stdout",
     "output_type": "stream",
     "text": [
      "['winter', 'sprung', 'summer', 'fall']\n"
     ]
    }
   ],
   "source": [
    "my_list = ['winter', 'sprung', 'summer', 'fall'] # this list has a typo\n",
    "print(my_list)"
   ]
  },
  {
   "cell_type": "markdown",
   "metadata": {},
   "source": [
    "Note that we used a # symbol to leave a comment in the code above. Anything that follows the # symbol on the same line will be \"commented out\" of the code, so Python will not try to interpret it. The # symbol can be used to create a comment at the beginning of a new line too."
   ]
  },
  {
   "cell_type": "code",
   "execution_count": 32,
   "metadata": {},
   "outputs": [
    {
     "data": {
      "text/plain": [
       "list"
      ]
     },
     "execution_count": 32,
     "metadata": {},
     "output_type": "execute_result"
    }
   ],
   "source": [
    "# let's check the type of the list we just created\n",
    "type(my_list)"
   ]
  },
  {
   "cell_type": "markdown",
   "metadata": {},
   "source": [
    "To fetch the element at a specific location, put the *index* of that location in square brackets. But keep in mind that Python lists start the index from 0. So the list above has three index values: ```my_list[0] my_list[1] my_list[2]```"
   ]
  },
  {
   "cell_type": "code",
   "execution_count": 33,
   "metadata": {},
   "outputs": [
    {
     "name": "stdout",
     "output_type": "stream",
     "text": [
      "sprung\n"
     ]
    }
   ],
   "source": [
    "print(my_list[1])"
   ]
  },
  {
   "cell_type": "code",
   "execution_count": 34,
   "metadata": {},
   "outputs": [
    {
     "name": "stdout",
     "output_type": "stream",
     "text": [
      "spring\n"
     ]
    }
   ],
   "source": [
    "my_list[1] = 'spring'\n",
    "print(my_list[1])"
   ]
  },
  {
   "cell_type": "markdown",
   "metadata": {},
   "source": [
    "Lists can contain different types of Python objects, and you can even create lists of lists."
   ]
  },
  {
   "cell_type": "code",
   "execution_count": 35,
   "metadata": {},
   "outputs": [
    {
     "name": "stdout",
     "output_type": "stream",
     "text": [
      "['list', 'of', 'items']\n",
      "<class 'list'>\n"
     ]
    }
   ],
   "source": [
    "mixed_list = ['word', 3, 10.2, ['list', 'of', 'items']]\n",
    "print(mixed_list[3])\n",
    "print(type(mixed_list[3]))"
   ]
  },
  {
   "cell_type": "markdown",
   "metadata": {},
   "source": [
    "Using similar syntax as a list index, you can look at slices of parts of a list:"
   ]
  },
  {
   "cell_type": "code",
   "execution_count": 36,
   "metadata": {},
   "outputs": [
    {
     "data": {
      "text/plain": [
       "[3, 10.2]"
      ]
     },
     "execution_count": 36,
     "metadata": {},
     "output_type": "execute_result"
    }
   ],
   "source": [
    "mixed_list[1:3]"
   ]
  },
  {
   "cell_type": "code",
   "execution_count": 37,
   "metadata": {},
   "outputs": [
    {
     "data": {
      "text/plain": [
       "[10.2, ['list', 'of', 'items']]"
      ]
     },
     "execution_count": 37,
     "metadata": {},
     "output_type": "execute_result"
    }
   ],
   "source": [
    "mixed_list[2:]"
   ]
  },
  {
   "cell_type": "code",
   "execution_count": 38,
   "metadata": {},
   "outputs": [
    {
     "data": {
      "text/plain": [
       "['word', 3]"
      ]
     },
     "execution_count": 38,
     "metadata": {},
     "output_type": "execute_result"
    }
   ],
   "source": [
    "mixed_list[:2]"
   ]
  },
  {
   "cell_type": "markdown",
   "metadata": {},
   "source": [
    "Sometime you'll want to create an empty list (which you can fill later). You can do so, by declaring a list variable with empty square brackets."
   ]
  },
  {
   "cell_type": "code",
   "execution_count": 39,
   "metadata": {},
   "outputs": [],
   "source": [
    "future_list = []"
   ]
  },
  {
   "cell_type": "markdown",
   "metadata": {},
   "source": [
    "Now let's create a list of four numbers and assign it to the variable 'a'."
   ]
  },
  {
   "cell_type": "code",
   "execution_count": 40,
   "metadata": {},
   "outputs": [],
   "source": [
    "a = [1, 2, 3, 4]"
   ]
  },
  {
   "cell_type": "markdown",
   "metadata": {},
   "source": [
    "Create another variable 'b' that references the variable you created in the previous step."
   ]
  },
  {
   "cell_type": "code",
   "execution_count": 41,
   "metadata": {},
   "outputs": [],
   "source": [
    "b = a"
   ]
  },
  {
   "cell_type": "markdown",
   "metadata": {},
   "source": [
    "Now change the first item in the list that 'b' references."
   ]
  },
  {
   "cell_type": "code",
   "execution_count": 42,
   "metadata": {},
   "outputs": [],
   "source": [
    "b[0] = 7"
   ]
  },
  {
   "cell_type": "markdown",
   "metadata": {},
   "source": [
    "Look at a and b. Are they the same or did the change you made to 'b' in the previous step also change 'a'?"
   ]
  },
  {
   "cell_type": "code",
   "execution_count": 43,
   "metadata": {},
   "outputs": [
    {
     "data": {
      "text/plain": [
       "[7, 2, 3, 4]"
      ]
     },
     "execution_count": 43,
     "metadata": {},
     "output_type": "execute_result"
    }
   ],
   "source": [
    "a"
   ]
  },
  {
   "cell_type": "code",
   "execution_count": 44,
   "metadata": {},
   "outputs": [
    {
     "data": {
      "text/plain": [
       "[7, 2, 3, 4]"
      ]
     },
     "execution_count": 44,
     "metadata": {},
     "output_type": "execute_result"
    }
   ],
   "source": [
    "b"
   ]
  },
  {
   "cell_type": "code",
   "execution_count": 45,
   "metadata": {},
   "outputs": [],
   "source": [
    "b = a.copy()"
   ]
  },
  {
   "cell_type": "code",
   "execution_count": 46,
   "metadata": {},
   "outputs": [],
   "source": [
    "b[0] = 1"
   ]
  },
  {
   "cell_type": "code",
   "execution_count": 47,
   "metadata": {},
   "outputs": [
    {
     "data": {
      "text/plain": [
       "[7, 2, 3, 4]"
      ]
     },
     "execution_count": 47,
     "metadata": {},
     "output_type": "execute_result"
    }
   ],
   "source": [
    "a"
   ]
  },
  {
   "cell_type": "code",
   "execution_count": 48,
   "metadata": {},
   "outputs": [
    {
     "data": {
      "text/plain": [
       "[1, 2, 3, 4]"
      ]
     },
     "execution_count": 48,
     "metadata": {},
     "output_type": "execute_result"
    }
   ],
   "source": [
    "b"
   ]
  },
  {
   "cell_type": "code",
   "execution_count": null,
   "metadata": {},
   "outputs": [],
   "source": []
  },
  {
   "cell_type": "markdown",
   "metadata": {},
   "source": [
    "## Importing Libraries (aka packages)\n",
    "Importing a library is like getting a piece of lab equipment out of a storage locker and setting it up on the bench. Libraries provide additional functionality to the basic Python package, much like a new piece of equipment adds functionality to a lab space. Just like in the lab, importing too many libraries can sometimes complicate and slow down your programs - so we only import what we need for each program.\n"
   ]
  },
  {
   "cell_type": "markdown",
   "metadata": {},
   "source": [
    "Python has a huge number of built-in packages, its standard library. \n",
    "Some methods are always available; others we must import."
   ]
  },
  {
   "cell_type": "code",
   "execution_count": 49,
   "metadata": {},
   "outputs": [],
   "source": [
    "rand = random.randint(1,10)"
   ]
  },
  {
   "cell_type": "code",
   "execution_count": 50,
   "metadata": {},
   "outputs": [],
   "source": [
    "import random"
   ]
  },
  {
   "cell_type": "code",
   "execution_count": 51,
   "metadata": {},
   "outputs": [
    {
     "name": "stdout",
     "output_type": "stream",
     "text": [
      "1\n"
     ]
    }
   ],
   "source": [
    "rand = random.randint(1,10)\n",
    "print(rand)"
   ]
  },
  {
   "cell_type": "markdown",
   "metadata": {},
   "source": [
    "### Loading tabular data (such as a CSV) into Pandas\n",
    "- Use the Pandas library to do statistics on tabular data.\n",
    "- Pandas is a widely-used Python library for statistics, particularly on tabular data.\n",
    "- Borrows many features from R’s dataframes.\n",
    " - A 2-dimensional table whose columns have names and potentially have different data types.\n",
    "- Load it with `import pandas as pd`. The alias `pd` is commonly used for Pandas."
   ]
  },
  {
   "cell_type": "code",
   "execution_count": 52,
   "metadata": {},
   "outputs": [],
   "source": [
    "import pandas as pd"
   ]
  },
  {
   "cell_type": "markdown",
   "metadata": {},
   "source": [
    "Read a Comma Separate Values (CSV) data file with `pd.read_csv`.\n",
    "- Argument is the name of the file to be read.\n",
    "- Assign result to a variable to store the data that was read."
   ]
  },
  {
   "cell_type": "code",
   "execution_count": 53,
   "metadata": {},
   "outputs": [],
   "source": [
    "df = pd.read_csv(\"bechdel_data.csv\")"
   ]
  },
  {
   "cell_type": "code",
   "execution_count": 54,
   "metadata": {},
   "outputs": [
    {
     "name": "stdout",
     "output_type": "stream",
     "text": [
      "      year                                 imdb  \\\n",
      "0     2013  http://www.imdb.com/title/tt1711425   \n",
      "1     2012  http://www.imdb.com/title/tt1343727   \n",
      "2     2013  http://www.imdb.com/title/tt2024544   \n",
      "3     2013  http://www.imdb.com/title/tt1272878   \n",
      "4     2013  http://www.imdb.com/title/tt0453562   \n",
      "5     2013  http://www.imdb.com/title/tt1335975   \n",
      "6     2013  http://www.imdb.com/title/tt1606378   \n",
      "7     2013  http://www.imdb.com/title/tt2194499   \n",
      "8     2013  http://www.imdb.com/title/tt1814621   \n",
      "9     2013  http://www.imdb.com/title/tt1815862   \n",
      "10    2013  http://www.imdb.com/title/tt1800241   \n",
      "11    2013  http://www.imdb.com/title/tt1322269   \n",
      "12    2013  http://www.imdb.com/title/tt1559547   \n",
      "13    2013  http://www.imdb.com/title/tt2334873   \n",
      "14    2013  http://www.imdb.com/title/tt1535109   \n",
      "15    2013  http://www.imdb.com/title/tt1939659   \n",
      "16    2013  http://www.imdb.com/title/tt1985966   \n",
      "17    2013  http://www.imdb.com/title/tt1690953   \n",
      "18    2013  http://www.imdb.com/title/tt2229499   \n",
      "19    2013  http://www.imdb.com/title/tt1535108   \n",
      "20    2013  http://www.imdb.com/title/tt1731141   \n",
      "21    2013  http://www.imdb.com/title/tt0848537   \n",
      "22    2013  http://www.imdb.com/title/tt0765446   \n",
      "23    2013  http://www.imdb.com/title/tt1211956   \n",
      "24    2013  http://www.imdb.com/title/tt1288558   \n",
      "25    2013  http://www.imdb.com/title/tt1905041   \n",
      "26    2013  http://www.imdb.com/title/tt2294629   \n",
      "27    2013  http://www.imdb.com/title/tt1583421   \n",
      "28    2013  http://www.imdb.com/title/tt1321870   \n",
      "29    2013  http://www.imdb.com/title/tt2425486   \n",
      "...    ...                                  ...   \n",
      "1764  1976  http://www.imdb.com/title/tt0075148   \n",
      "1765  1976  http://www.imdb.com/title/tt0075222   \n",
      "1766  1976  http://www.imdb.com/title/tt0075249   \n",
      "1767  1976  http://www.imdb.com/title/tt0075314   \n",
      "1768  1975  http://www.imdb.com/title/tt0072684   \n",
      "1769  1975  http://www.imdb.com/title/tt0073195   \n",
      "1770  1975  http://www.imdb.com/title/tt0071853   \n",
      "1771  1975  http://www.imdb.com/title/tt0073486   \n",
      "1772  1975  http://www.imdb.com/title/tt0073629   \n",
      "1773  1974  http://www.imdb.com/title/tt0071222   \n",
      "1774  1974  http://www.imdb.com/title/tt0071230   \n",
      "1775  1974  http://www.imdb.com/title/tt0071360   \n",
      "1776  1974  http://www.imdb.com/title/tt0071562   \n",
      "1777  1974  http://www.imdb.com/title/tt0072271   \n",
      "1778  1974  http://www.imdb.com/title/tt0072308   \n",
      "1779  1974  http://www.imdb.com/title/tt0072431   \n",
      "1780  1973  http://www.imdb.com/title/tt0069704   \n",
      "1781  1973  http://www.imdb.com/title/tt0068699   \n",
      "1782  1973  http://www.imdb.com/title/tt0070707   \n",
      "1783  1973  http://www.imdb.com/title/tt0070047   \n",
      "1784  1973  http://www.imdb.com/title/tt0070735   \n",
      "1785  1972  http://www.imdb.com/title/tt0068156   \n",
      "1786  1972  http://www.imdb.com/title/tt0069089   \n",
      "1787  1972  http://www.imdb.com/title/tt0068646   \n",
      "1788  1971  http://www.imdb.com/title/tt0067065   \n",
      "1789  1971  http://www.imdb.com/title/tt0067741   \n",
      "1790  1971  http://www.imdb.com/title/tt0067800   \n",
      "1791  1971  http://www.imdb.com/title/tt0067116   \n",
      "1792  1971  http://www.imdb.com/title/tt0067992   \n",
      "1793  1970  http://www.imdb.com/title/tt0065466   \n",
      "\n",
      "                                    title              test clean_test binary  \\\n",
      "0                               21 & Over            notalk     notalk   FAIL   \n",
      "1                                Dredd 3D       ok-disagree         ok   PASS   \n",
      "2                        12 Years a Slave   notalk-disagree     notalk   FAIL   \n",
      "3                                  2 Guns            notalk     notalk   FAIL   \n",
      "4                                      42               men        men   FAIL   \n",
      "5                                47 Ronin               men        men   FAIL   \n",
      "6                  A Good Day to Die Hard            notalk     notalk   FAIL   \n",
      "7                              About Time       ok-disagree         ok   PASS   \n",
      "8                               Admission                ok         ok   PASS   \n",
      "9                             After Earth            notalk     notalk   FAIL   \n",
      "10                        American Hustle       ok-disagree         ok   PASS   \n",
      "11                   August: Osage County                ok         ok   PASS   \n",
      "12                    Beautiful Creatures                ok         ok   PASS   \n",
      "13                           Blue Jasmine       ok-disagree         ok   PASS   \n",
      "14                       Captain Phillips            notalk     notalk   FAIL   \n",
      "15                                 Carrie                ok         ok   PASS   \n",
      "16    Cloudy with a Chance of Meatballs 2  nowomen-disagree    nowomen   FAIL   \n",
      "17                        Despicable Me 2                ok         ok   PASS   \n",
      "18                                Don Jon  dubious-disagree    dubious   FAIL   \n",
      "19                                Elysium       ok-disagree         ok   PASS   \n",
      "20                           Ender's Game               men        men   FAIL   \n",
      "21                                   Epic       ok-disagree         ok   PASS   \n",
      "22               Escape from Planet Earth                ok         ok   PASS   \n",
      "23                            Escape Plan               men        men   FAIL   \n",
      "24                              Evil Dead       ok-disagree         ok   PASS   \n",
      "25                     Fast and Furious 6       ok-disagree         ok   PASS   \n",
      "26                                 Frozen                ok         ok   PASS   \n",
      "27                  G.I. Joe: Retaliation       ok-disagree         ok   PASS   \n",
      "28                         Gangster Squad            notalk     notalk   FAIL   \n",
      "29                                 Gloria                ok         ok   PASS   \n",
      "...                                   ...               ...        ...    ...   \n",
      "1764                                Rocky            notalk     notalk   FAIL   \n",
      "1765                         Silent Movie            notalk     notalk   FAIL   \n",
      "1766                              Sparkle                ok         ok   PASS   \n",
      "1767                          Taxi Driver            notalk     notalk   FAIL   \n",
      "1768                         Barry Lyndon            notalk     notalk   FAIL   \n",
      "1769                                 Jaws            notalk     notalk   FAIL   \n",
      "1770      Monty Python and the Holy Grail               men        men   FAIL   \n",
      "1771      One Flew Over the Cuckoo's Nest               men        men   FAIL   \n",
      "1772        The Rocky Horror Picture Show  dubious-disagree    dubious   FAIL   \n",
      "1773                      Black Christmas                ok         ok   PASS   \n",
      "1774                      Blazing Saddles            notalk     notalk   FAIL   \n",
      "1775                     The Conversation            notalk     notalk   FAIL   \n",
      "1776               The Godfather: Part II                ok         ok   PASS   \n",
      "1777         The Texas Chain Saw Massacre            notalk     notalk   FAIL   \n",
      "1778                 The Towering Inferno            notalk     notalk   FAIL   \n",
      "1779                   Young Frankenstein               men        men   FAIL   \n",
      "1780                    American Graffiti               men        men   FAIL   \n",
      "1781                  High Plains Drifter            notalk     notalk   FAIL   \n",
      "1782                              Sleeper            notalk     notalk   FAIL   \n",
      "1783                         The Exorcist                ok         ok   PASS   \n",
      "1784                            The Sting            notalk     notalk   FAIL   \n",
      "1785                                 1776            notalk     notalk   FAIL   \n",
      "1786                       Pink Flamingos                ok         ok   PASS   \n",
      "1787                        The Godfather   notalk-disagree     notalk   FAIL   \n",
      "1788   Escape from the Planet of the Apes            notalk     notalk   FAIL   \n",
      "1789                                Shaft            notalk     notalk   FAIL   \n",
      "1790                           Straw Dogs            notalk     notalk   FAIL   \n",
      "1791                The French Connection            notalk     notalk   FAIL   \n",
      "1792  Willy Wonka & the Chocolate Factory      men-disagree        men   FAIL   \n",
      "1793       Beyond the Valley of the Dolls                ok         ok   PASS   \n",
      "\n",
      "         budget     domgross      intgross      code  budget_2013  \\\n",
      "0      13000000   25682380.0  4.219577e+07  2013FAIL     13000000   \n",
      "1      45000000   13414714.0  4.086899e+07  2012PASS     45658735   \n",
      "2      20000000   53107035.0  1.586070e+08  2013FAIL     20000000   \n",
      "3      61000000   75612460.0  1.324930e+08  2013FAIL     61000000   \n",
      "4      40000000   95020213.0  9.502021e+07  2013FAIL     40000000   \n",
      "5     225000000   38362475.0  1.458038e+08  2013FAIL    225000000   \n",
      "6      92000000   67349198.0  3.042492e+08  2013FAIL     92000000   \n",
      "7      12000000   15323921.0  8.732475e+07  2013PASS     12000000   \n",
      "8      13000000   18007317.0  1.800732e+07  2013PASS     13000000   \n",
      "9     130000000   60522097.0  2.443732e+08  2013FAIL    130000000   \n",
      "10     40000000  148430908.0  2.494849e+08  2013PASS     40000000   \n",
      "11     25000000   37304874.0  5.030487e+07  2013PASS     25000000   \n",
      "12     50000000   19452138.0  5.594067e+07  2013PASS     50000000   \n",
      "13     18000000   33345833.0  6.844783e+07  2013PASS     18000000   \n",
      "14     55000000  107136417.0  2.187436e+08  2013FAIL     55000000   \n",
      "15     30000000   35266619.0  8.500166e+07  2013PASS     30000000   \n",
      "16     78000000  119640264.0  2.717254e+08  2013FAIL     78000000   \n",
      "17     76000000  368065385.0  9.707660e+08  2013PASS     76000000   \n",
      "18      5500000   24477704.0  2.637770e+07  2013FAIL      5500000   \n",
      "19    120000000   93050117.0  2.861921e+08  2013PASS    120000000   \n",
      "20    110000000   61737191.0  8.973719e+07  2013FAIL    110000000   \n",
      "21    100000000  107518682.0  2.684187e+08  2013PASS    100000000   \n",
      "22     40000000   57012977.0  6.645481e+07  2013PASS     40000000   \n",
      "23     70000000   25213103.0  1.038131e+08  2013FAIL     70000000   \n",
      "24     17000000   54239856.0  9.740205e+07  2013PASS     17000000   \n",
      "25    160000000  238679850.0  7.881281e+08  2013PASS    160000000   \n",
      "26    150000000  393050114.0  1.004550e+09  2013PASS    150000000   \n",
      "27    140000000  122523060.0  3.719231e+08  2013PASS    140000000   \n",
      "28     60000000   46000903.0  1.041009e+08  2013FAIL     60000000   \n",
      "29     30000000    4167493.0  4.967493e+06  2013PASS     30000000   \n",
      "...         ...          ...           ...       ...          ...   \n",
      "1764    1000000  117235147.0  2.250000e+08  1976FAIL      4091827   \n",
      "1765    4400000   36145695.0  3.614570e+07  1976FAIL     18004040   \n",
      "1766   10000000   24397469.0  2.466032e+07  1976PASS     40918272   \n",
      "1767    1000000   28262574.0  2.826257e+07  1976FAIL      4091827   \n",
      "1768   11000000   20000000.0  2.000000e+07  1975FAIL     47609104   \n",
      "1769   12000000  260000000.0  4.707000e+08  1975FAIL     51937204   \n",
      "1770     400000    3427696.0  5.028948e+06  1975FAIL      1731240   \n",
      "1771    4400000  108981275.0  1.089813e+08  1975FAIL     19043641   \n",
      "1772    1200000  139876417.0  1.398764e+08  1975FAIL      5193720   \n",
      "1773    9000000   16235738.0  1.623574e+07  1974PASS     42513535   \n",
      "1774    2600000  119500000.0  1.195000e+08  1974FAIL     12281688   \n",
      "1775    1600000    4420000.0  4.420000e+06  1974FAIL      7557962   \n",
      "1776   13000000   57300000.0  5.730000e+07  1974PASS     61408439   \n",
      "1777     140000   26572439.0  2.657244e+07  1974FAIL       661322   \n",
      "1778     140000   26572439.0  2.657244e+07  1974FAIL       661322   \n",
      "1779    2800000   86300000.0  8.630000e+07  1974FAIL     13226433   \n",
      "1780     777000  115000000.0  1.400000e+08  1973FAIL      4074506   \n",
      "1781   15700000   15700000.0  1.570000e+07  1973FAIL     82329139   \n",
      "1782    2000000   18344729.0  1.834473e+07  1973FAIL     10487788   \n",
      "1783   12000000  204868002.0  4.027351e+08  1973PASS     62926730   \n",
      "1784    5500000  159616327.0  1.596163e+08  1973FAIL     28841418   \n",
      "1785    4000000          NaN           NaN  1972FAIL     22288557   \n",
      "1786      12000     413802.0  4.138020e+05  1972PASS        66866   \n",
      "1787    7000000  134966411.0  2.685000e+08  1972FAIL     39004975   \n",
      "1788    2500000   12300000.0  1.230000e+07  1971FAIL     14386286   \n",
      "1789   53012938   70327868.0  1.071901e+08  1971FAIL    305063707   \n",
      "1790   25000000   10324441.0  1.125382e+07  1971FAIL    143862856   \n",
      "1791    2200000   41158757.0  4.115876e+07  1971FAIL     12659931   \n",
      "1792    3000000    4000000.0  4.000000e+06  1971FAIL     17263543   \n",
      "1793    1000000    9000000.0  9.000000e+06  1970PASS      5997631   \n",
      "\n",
      "      domgross_2013  intgross_2013  \n",
      "0      2.568238e+07   4.219577e+07  \n",
      "1      1.361109e+07   4.146726e+07  \n",
      "2      5.310704e+07   1.586070e+08  \n",
      "3      7.561246e+07   1.324930e+08  \n",
      "4      9.502021e+07   9.502021e+07  \n",
      "5      3.836248e+07   1.458038e+08  \n",
      "6      6.734920e+07   3.042492e+08  \n",
      "7      1.532392e+07   8.732475e+07  \n",
      "8      1.800732e+07   1.800732e+07  \n",
      "9      6.052210e+07   2.443732e+08  \n",
      "10     1.484309e+08   2.494849e+08  \n",
      "11     3.730487e+07   5.030487e+07  \n",
      "12     1.945214e+07   5.594067e+07  \n",
      "13     3.334583e+07   6.844783e+07  \n",
      "14     1.071364e+08   2.187436e+08  \n",
      "15     3.526662e+07   8.500166e+07  \n",
      "16     1.196403e+08   2.717254e+08  \n",
      "17     3.680654e+08   9.707660e+08  \n",
      "18     2.447770e+07   2.637770e+07  \n",
      "19     9.305012e+07   2.861921e+08  \n",
      "20     6.173719e+07   8.973719e+07  \n",
      "21     1.075187e+08   2.684187e+08  \n",
      "22     5.701298e+07   6.645481e+07  \n",
      "23     2.521310e+07   1.038131e+08  \n",
      "24     5.423986e+07   9.740205e+07  \n",
      "25     2.386798e+08   7.881281e+08  \n",
      "26     3.930501e+08   1.004550e+09  \n",
      "27     1.225231e+08   3.719231e+08  \n",
      "28     4.600090e+07   1.041009e+08  \n",
      "29     4.167493e+06   4.967493e+06  \n",
      "...             ...            ...  \n",
      "1764   4.797060e+08   9.206611e+08  \n",
      "1765   1.479019e+08   1.479019e+08  \n",
      "1766   9.983023e+07   1.009058e+08  \n",
      "1767   1.156456e+08   1.156456e+08  \n",
      "1768   8.656201e+07   8.656201e+07  \n",
      "1769   1.125306e+09   2.037237e+09  \n",
      "1770   1.483541e+07   2.176579e+07  \n",
      "1771   4.716819e+08   4.716819e+08  \n",
      "1772   6.053992e+08   6.053992e+08  \n",
      "1773   7.669318e+07   7.669318e+07  \n",
      "1774   5.644853e+08   5.644853e+08  \n",
      "1775   2.087887e+07   2.087887e+07  \n",
      "1776   2.706695e+08   2.706695e+08  \n",
      "1777   1.255209e+08   1.255209e+08  \n",
      "1778   1.255209e+08   1.255209e+08  \n",
      "1779   4.076576e+08   4.076576e+08  \n",
      "1780   6.030478e+08   7.341452e+08  \n",
      "1781   8.232914e+07   8.232914e+07  \n",
      "1782   9.619782e+07   9.619782e+07  \n",
      "1783   1.074306e+09   2.111900e+09  \n",
      "1784   8.370111e+08   8.370111e+08  \n",
      "1785            NaN            NaN  \n",
      "1786   2.305762e+06   2.305762e+06  \n",
      "1787   7.520516e+08   1.496119e+09  \n",
      "1788   7.078052e+07   7.078052e+07  \n",
      "1789   4.047027e+08   6.168270e+08  \n",
      "1790   5.941214e+07   6.476027e+07  \n",
      "1791   2.368487e+08   2.368487e+08  \n",
      "1792   2.301806e+07   2.301806e+07  \n",
      "1793   5.397868e+07   5.397868e+07  \n",
      "\n",
      "[1794 rows x 13 columns]\n"
     ]
    }
   ],
   "source": [
    "#this is not helpful\n",
    "print(df)"
   ]
  },
  {
   "cell_type": "markdown",
   "metadata": {},
   "source": [
    "### Examining your data\n",
    "After reading in the data, do a quick check to see what it looks like. Start by looking at the first 5 lines of the data frame."
   ]
  },
  {
   "cell_type": "code",
   "execution_count": 55,
   "metadata": {},
   "outputs": [
    {
     "data": {
      "text/html": [
       "<div>\n",
       "<style scoped>\n",
       "    .dataframe tbody tr th:only-of-type {\n",
       "        vertical-align: middle;\n",
       "    }\n",
       "\n",
       "    .dataframe tbody tr th {\n",
       "        vertical-align: top;\n",
       "    }\n",
       "\n",
       "    .dataframe thead th {\n",
       "        text-align: right;\n",
       "    }\n",
       "</style>\n",
       "<table border=\"1\" class=\"dataframe\">\n",
       "  <thead>\n",
       "    <tr style=\"text-align: right;\">\n",
       "      <th></th>\n",
       "      <th>year</th>\n",
       "      <th>imdb</th>\n",
       "      <th>title</th>\n",
       "      <th>test</th>\n",
       "      <th>clean_test</th>\n",
       "      <th>binary</th>\n",
       "      <th>budget</th>\n",
       "      <th>domgross</th>\n",
       "      <th>intgross</th>\n",
       "      <th>code</th>\n",
       "      <th>budget_2013</th>\n",
       "      <th>domgross_2013</th>\n",
       "      <th>intgross_2013</th>\n",
       "    </tr>\n",
       "  </thead>\n",
       "  <tbody>\n",
       "    <tr>\n",
       "      <th>0</th>\n",
       "      <td>2013</td>\n",
       "      <td>http://www.imdb.com/title/tt1711425</td>\n",
       "      <td>21 &amp; Over</td>\n",
       "      <td>notalk</td>\n",
       "      <td>notalk</td>\n",
       "      <td>FAIL</td>\n",
       "      <td>13000000</td>\n",
       "      <td>25682380.0</td>\n",
       "      <td>42195766.0</td>\n",
       "      <td>2013FAIL</td>\n",
       "      <td>13000000</td>\n",
       "      <td>25682380.0</td>\n",
       "      <td>42195766.0</td>\n",
       "    </tr>\n",
       "    <tr>\n",
       "      <th>1</th>\n",
       "      <td>2012</td>\n",
       "      <td>http://www.imdb.com/title/tt1343727</td>\n",
       "      <td>Dredd 3D</td>\n",
       "      <td>ok-disagree</td>\n",
       "      <td>ok</td>\n",
       "      <td>PASS</td>\n",
       "      <td>45000000</td>\n",
       "      <td>13414714.0</td>\n",
       "      <td>40868994.0</td>\n",
       "      <td>2012PASS</td>\n",
       "      <td>45658735</td>\n",
       "      <td>13611086.0</td>\n",
       "      <td>41467257.0</td>\n",
       "    </tr>\n",
       "    <tr>\n",
       "      <th>2</th>\n",
       "      <td>2013</td>\n",
       "      <td>http://www.imdb.com/title/tt2024544</td>\n",
       "      <td>12 Years a Slave</td>\n",
       "      <td>notalk-disagree</td>\n",
       "      <td>notalk</td>\n",
       "      <td>FAIL</td>\n",
       "      <td>20000000</td>\n",
       "      <td>53107035.0</td>\n",
       "      <td>158607035.0</td>\n",
       "      <td>2013FAIL</td>\n",
       "      <td>20000000</td>\n",
       "      <td>53107035.0</td>\n",
       "      <td>158607035.0</td>\n",
       "    </tr>\n",
       "    <tr>\n",
       "      <th>3</th>\n",
       "      <td>2013</td>\n",
       "      <td>http://www.imdb.com/title/tt1272878</td>\n",
       "      <td>2 Guns</td>\n",
       "      <td>notalk</td>\n",
       "      <td>notalk</td>\n",
       "      <td>FAIL</td>\n",
       "      <td>61000000</td>\n",
       "      <td>75612460.0</td>\n",
       "      <td>132493015.0</td>\n",
       "      <td>2013FAIL</td>\n",
       "      <td>61000000</td>\n",
       "      <td>75612460.0</td>\n",
       "      <td>132493015.0</td>\n",
       "    </tr>\n",
       "    <tr>\n",
       "      <th>4</th>\n",
       "      <td>2013</td>\n",
       "      <td>http://www.imdb.com/title/tt0453562</td>\n",
       "      <td>42</td>\n",
       "      <td>men</td>\n",
       "      <td>men</td>\n",
       "      <td>FAIL</td>\n",
       "      <td>40000000</td>\n",
       "      <td>95020213.0</td>\n",
       "      <td>95020213.0</td>\n",
       "      <td>2013FAIL</td>\n",
       "      <td>40000000</td>\n",
       "      <td>95020213.0</td>\n",
       "      <td>95020213.0</td>\n",
       "    </tr>\n",
       "  </tbody>\n",
       "</table>\n",
       "</div>"
      ],
      "text/plain": [
       "   year                                 imdb             title  \\\n",
       "0  2013  http://www.imdb.com/title/tt1711425         21 & Over   \n",
       "1  2012  http://www.imdb.com/title/tt1343727          Dredd 3D   \n",
       "2  2013  http://www.imdb.com/title/tt2024544  12 Years a Slave   \n",
       "3  2013  http://www.imdb.com/title/tt1272878            2 Guns   \n",
       "4  2013  http://www.imdb.com/title/tt0453562                42   \n",
       "\n",
       "              test clean_test binary    budget    domgross     intgross  \\\n",
       "0           notalk     notalk   FAIL  13000000  25682380.0   42195766.0   \n",
       "1      ok-disagree         ok   PASS  45000000  13414714.0   40868994.0   \n",
       "2  notalk-disagree     notalk   FAIL  20000000  53107035.0  158607035.0   \n",
       "3           notalk     notalk   FAIL  61000000  75612460.0  132493015.0   \n",
       "4              men        men   FAIL  40000000  95020213.0   95020213.0   \n",
       "\n",
       "       code  budget_2013  domgross_2013  intgross_2013  \n",
       "0  2013FAIL     13000000     25682380.0     42195766.0  \n",
       "1  2012PASS     45658735     13611086.0     41467257.0  \n",
       "2  2013FAIL     20000000     53107035.0    158607035.0  \n",
       "3  2013FAIL     61000000     75612460.0    132493015.0  \n",
       "4  2013FAIL     40000000     95020213.0     95020213.0  "
      ]
     },
     "execution_count": 55,
     "metadata": {},
     "output_type": "execute_result"
    }
   ],
   "source": [
    "df.head(5)"
   ]
  },
  {
   "cell_type": "markdown",
   "metadata": {},
   "source": [
    "Now look at the last 5 lines."
   ]
  },
  {
   "cell_type": "code",
   "execution_count": 56,
   "metadata": {},
   "outputs": [
    {
     "data": {
      "text/html": [
       "<div>\n",
       "<style scoped>\n",
       "    .dataframe tbody tr th:only-of-type {\n",
       "        vertical-align: middle;\n",
       "    }\n",
       "\n",
       "    .dataframe tbody tr th {\n",
       "        vertical-align: top;\n",
       "    }\n",
       "\n",
       "    .dataframe thead th {\n",
       "        text-align: right;\n",
       "    }\n",
       "</style>\n",
       "<table border=\"1\" class=\"dataframe\">\n",
       "  <thead>\n",
       "    <tr style=\"text-align: right;\">\n",
       "      <th></th>\n",
       "      <th>year</th>\n",
       "      <th>imdb</th>\n",
       "      <th>title</th>\n",
       "      <th>test</th>\n",
       "      <th>clean_test</th>\n",
       "      <th>binary</th>\n",
       "      <th>budget</th>\n",
       "      <th>domgross</th>\n",
       "      <th>intgross</th>\n",
       "      <th>code</th>\n",
       "      <th>budget_2013</th>\n",
       "      <th>domgross_2013</th>\n",
       "      <th>intgross_2013</th>\n",
       "    </tr>\n",
       "  </thead>\n",
       "  <tbody>\n",
       "    <tr>\n",
       "      <th>1789</th>\n",
       "      <td>1971</td>\n",
       "      <td>http://www.imdb.com/title/tt0067741</td>\n",
       "      <td>Shaft</td>\n",
       "      <td>notalk</td>\n",
       "      <td>notalk</td>\n",
       "      <td>FAIL</td>\n",
       "      <td>53012938</td>\n",
       "      <td>70327868.0</td>\n",
       "      <td>107190108.0</td>\n",
       "      <td>1971FAIL</td>\n",
       "      <td>305063707</td>\n",
       "      <td>404702718.0</td>\n",
       "      <td>616827003.0</td>\n",
       "    </tr>\n",
       "    <tr>\n",
       "      <th>1790</th>\n",
       "      <td>1971</td>\n",
       "      <td>http://www.imdb.com/title/tt0067800</td>\n",
       "      <td>Straw Dogs</td>\n",
       "      <td>notalk</td>\n",
       "      <td>notalk</td>\n",
       "      <td>FAIL</td>\n",
       "      <td>25000000</td>\n",
       "      <td>10324441.0</td>\n",
       "      <td>11253821.0</td>\n",
       "      <td>1971FAIL</td>\n",
       "      <td>143862856</td>\n",
       "      <td>59412143.0</td>\n",
       "      <td>64760273.0</td>\n",
       "    </tr>\n",
       "    <tr>\n",
       "      <th>1791</th>\n",
       "      <td>1971</td>\n",
       "      <td>http://www.imdb.com/title/tt0067116</td>\n",
       "      <td>The French Connection</td>\n",
       "      <td>notalk</td>\n",
       "      <td>notalk</td>\n",
       "      <td>FAIL</td>\n",
       "      <td>2200000</td>\n",
       "      <td>41158757.0</td>\n",
       "      <td>41158757.0</td>\n",
       "      <td>1971FAIL</td>\n",
       "      <td>12659931</td>\n",
       "      <td>236848653.0</td>\n",
       "      <td>236848653.0</td>\n",
       "    </tr>\n",
       "    <tr>\n",
       "      <th>1792</th>\n",
       "      <td>1971</td>\n",
       "      <td>http://www.imdb.com/title/tt0067992</td>\n",
       "      <td>Willy Wonka &amp; the Chocolate Factory</td>\n",
       "      <td>men-disagree</td>\n",
       "      <td>men</td>\n",
       "      <td>FAIL</td>\n",
       "      <td>3000000</td>\n",
       "      <td>4000000.0</td>\n",
       "      <td>4000000.0</td>\n",
       "      <td>1971FAIL</td>\n",
       "      <td>17263543</td>\n",
       "      <td>23018057.0</td>\n",
       "      <td>23018057.0</td>\n",
       "    </tr>\n",
       "    <tr>\n",
       "      <th>1793</th>\n",
       "      <td>1970</td>\n",
       "      <td>http://www.imdb.com/title/tt0065466</td>\n",
       "      <td>Beyond the Valley of the Dolls</td>\n",
       "      <td>ok</td>\n",
       "      <td>ok</td>\n",
       "      <td>PASS</td>\n",
       "      <td>1000000</td>\n",
       "      <td>9000000.0</td>\n",
       "      <td>9000000.0</td>\n",
       "      <td>1970PASS</td>\n",
       "      <td>5997631</td>\n",
       "      <td>53978683.0</td>\n",
       "      <td>53978683.0</td>\n",
       "    </tr>\n",
       "  </tbody>\n",
       "</table>\n",
       "</div>"
      ],
      "text/plain": [
       "      year                                 imdb  \\\n",
       "1789  1971  http://www.imdb.com/title/tt0067741   \n",
       "1790  1971  http://www.imdb.com/title/tt0067800   \n",
       "1791  1971  http://www.imdb.com/title/tt0067116   \n",
       "1792  1971  http://www.imdb.com/title/tt0067992   \n",
       "1793  1970  http://www.imdb.com/title/tt0065466   \n",
       "\n",
       "                                    title          test clean_test binary  \\\n",
       "1789                                Shaft        notalk     notalk   FAIL   \n",
       "1790                           Straw Dogs        notalk     notalk   FAIL   \n",
       "1791                The French Connection        notalk     notalk   FAIL   \n",
       "1792  Willy Wonka & the Chocolate Factory  men-disagree        men   FAIL   \n",
       "1793       Beyond the Valley of the Dolls            ok         ok   PASS   \n",
       "\n",
       "        budget    domgross     intgross      code  budget_2013  domgross_2013  \\\n",
       "1789  53012938  70327868.0  107190108.0  1971FAIL    305063707    404702718.0   \n",
       "1790  25000000  10324441.0   11253821.0  1971FAIL    143862856     59412143.0   \n",
       "1791   2200000  41158757.0   41158757.0  1971FAIL     12659931    236848653.0   \n",
       "1792   3000000   4000000.0    4000000.0  1971FAIL     17263543     23018057.0   \n",
       "1793   1000000   9000000.0    9000000.0  1970PASS      5997631     53978683.0   \n",
       "\n",
       "      intgross_2013  \n",
       "1789    616827003.0  \n",
       "1790     64760273.0  \n",
       "1791    236848653.0  \n",
       "1792     23018057.0  \n",
       "1793     53978683.0  "
      ]
     },
     "execution_count": 56,
     "metadata": {},
     "output_type": "execute_result"
    }
   ],
   "source": [
    "df.tail(5)"
   ]
  },
  {
   "cell_type": "markdown",
   "metadata": {},
   "source": [
    "You can look at specific rows of the data frame using the same syntax that we used to slice a list."
   ]
  },
  {
   "cell_type": "code",
   "execution_count": 57,
   "metadata": {},
   "outputs": [
    {
     "data": {
      "text/html": [
       "<div>\n",
       "<style scoped>\n",
       "    .dataframe tbody tr th:only-of-type {\n",
       "        vertical-align: middle;\n",
       "    }\n",
       "\n",
       "    .dataframe tbody tr th {\n",
       "        vertical-align: top;\n",
       "    }\n",
       "\n",
       "    .dataframe thead th {\n",
       "        text-align: right;\n",
       "    }\n",
       "</style>\n",
       "<table border=\"1\" class=\"dataframe\">\n",
       "  <thead>\n",
       "    <tr style=\"text-align: right;\">\n",
       "      <th></th>\n",
       "      <th>year</th>\n",
       "      <th>imdb</th>\n",
       "      <th>title</th>\n",
       "      <th>test</th>\n",
       "      <th>clean_test</th>\n",
       "      <th>binary</th>\n",
       "      <th>budget</th>\n",
       "      <th>domgross</th>\n",
       "      <th>intgross</th>\n",
       "      <th>code</th>\n",
       "      <th>budget_2013</th>\n",
       "      <th>domgross_2013</th>\n",
       "      <th>intgross_2013</th>\n",
       "    </tr>\n",
       "  </thead>\n",
       "  <tbody>\n",
       "    <tr>\n",
       "      <th>100</th>\n",
       "      <td>2012</td>\n",
       "      <td>http://www.imdb.com/title/tt1611224</td>\n",
       "      <td>Abraham Lincoln: Vampire Hunter</td>\n",
       "      <td>dubious-disagree</td>\n",
       "      <td>dubious</td>\n",
       "      <td>FAIL</td>\n",
       "      <td>67500000</td>\n",
       "      <td>37519139.0</td>\n",
       "      <td>115119139.0</td>\n",
       "      <td>2012FAIL</td>\n",
       "      <td>68488103</td>\n",
       "      <td>38068365.0</td>\n",
       "      <td>116804318.0</td>\n",
       "    </tr>\n",
       "    <tr>\n",
       "      <th>101</th>\n",
       "      <td>2012</td>\n",
       "      <td>http://www.imdb.com/title/tt1591479</td>\n",
       "      <td>Act of Valor</td>\n",
       "      <td>nowomen</td>\n",
       "      <td>nowomen</td>\n",
       "      <td>FAIL</td>\n",
       "      <td>12000000</td>\n",
       "      <td>70012847.0</td>\n",
       "      <td>82497035.0</td>\n",
       "      <td>2012FAIL</td>\n",
       "      <td>12175663</td>\n",
       "      <td>71037735.0</td>\n",
       "      <td>83704673.0</td>\n",
       "    </tr>\n",
       "    <tr>\n",
       "      <th>102</th>\n",
       "      <td>2012</td>\n",
       "      <td>http://www.imdb.com/title/tt1602620</td>\n",
       "      <td>Amour</td>\n",
       "      <td>dubious-disagree</td>\n",
       "      <td>dubious</td>\n",
       "      <td>FAIL</td>\n",
       "      <td>9700000</td>\n",
       "      <td>6738954.0</td>\n",
       "      <td>25915719.0</td>\n",
       "      <td>2012FAIL</td>\n",
       "      <td>9841994</td>\n",
       "      <td>6837603.0</td>\n",
       "      <td>26295088.0</td>\n",
       "    </tr>\n",
       "    <tr>\n",
       "      <th>103</th>\n",
       "      <td>2012</td>\n",
       "      <td>http://www.imdb.com/title/tt1781769</td>\n",
       "      <td>Anna Karenina</td>\n",
       "      <td>men-disagree</td>\n",
       "      <td>men</td>\n",
       "      <td>FAIL</td>\n",
       "      <td>49000000</td>\n",
       "      <td>12816367.0</td>\n",
       "      <td>70735540.0</td>\n",
       "      <td>2012FAIL</td>\n",
       "      <td>49717290</td>\n",
       "      <td>13003980.0</td>\n",
       "      <td>71771007.0</td>\n",
       "    </tr>\n",
       "    <tr>\n",
       "      <th>104</th>\n",
       "      <td>2012</td>\n",
       "      <td>http://www.imdb.com/title/tt1024648</td>\n",
       "      <td>Argo</td>\n",
       "      <td>ok-disagree</td>\n",
       "      <td>ok</td>\n",
       "      <td>PASS</td>\n",
       "      <td>44500000</td>\n",
       "      <td>136025503.0</td>\n",
       "      <td>221300694.0</td>\n",
       "      <td>2012PASS</td>\n",
       "      <td>45151416</td>\n",
       "      <td>138016721.0</td>\n",
       "      <td>224540219.0</td>\n",
       "    </tr>\n",
       "  </tbody>\n",
       "</table>\n",
       "</div>"
      ],
      "text/plain": [
       "     year                                 imdb  \\\n",
       "100  2012  http://www.imdb.com/title/tt1611224   \n",
       "101  2012  http://www.imdb.com/title/tt1591479   \n",
       "102  2012  http://www.imdb.com/title/tt1602620   \n",
       "103  2012  http://www.imdb.com/title/tt1781769   \n",
       "104  2012  http://www.imdb.com/title/tt1024648   \n",
       "\n",
       "                               title              test clean_test binary  \\\n",
       "100  Abraham Lincoln: Vampire Hunter  dubious-disagree    dubious   FAIL   \n",
       "101                     Act of Valor           nowomen    nowomen   FAIL   \n",
       "102                            Amour  dubious-disagree    dubious   FAIL   \n",
       "103                    Anna Karenina      men-disagree        men   FAIL   \n",
       "104                             Argo       ok-disagree         ok   PASS   \n",
       "\n",
       "       budget     domgross     intgross      code  budget_2013  domgross_2013  \\\n",
       "100  67500000   37519139.0  115119139.0  2012FAIL     68488103     38068365.0   \n",
       "101  12000000   70012847.0   82497035.0  2012FAIL     12175663     71037735.0   \n",
       "102   9700000    6738954.0   25915719.0  2012FAIL      9841994      6837603.0   \n",
       "103  49000000   12816367.0   70735540.0  2012FAIL     49717290     13003980.0   \n",
       "104  44500000  136025503.0  221300694.0  2012PASS     45151416    138016721.0   \n",
       "\n",
       "     intgross_2013  \n",
       "100    116804318.0  \n",
       "101     83704673.0  \n",
       "102     26295088.0  \n",
       "103     71771007.0  \n",
       "104    224540219.0  "
      ]
     },
     "execution_count": 57,
     "metadata": {},
     "output_type": "execute_result"
    }
   ],
   "source": [
    "df[100:105]"
   ]
  },
  {
   "cell_type": "markdown",
   "metadata": {},
   "source": [
    "Finally, look at the metadata of the data frame."
   ]
  },
  {
   "cell_type": "code",
   "execution_count": 58,
   "metadata": {},
   "outputs": [
    {
     "name": "stdout",
     "output_type": "stream",
     "text": [
      "<class 'pandas.core.frame.DataFrame'>\n",
      "RangeIndex: 1794 entries, 0 to 1793\n",
      "Data columns (total 13 columns):\n",
      "year             1794 non-null int64\n",
      "imdb             1794 non-null object\n",
      "title            1794 non-null object\n",
      "test             1794 non-null object\n",
      "clean_test       1794 non-null object\n",
      "binary           1794 non-null object\n",
      "budget           1794 non-null int64\n",
      "domgross         1777 non-null float64\n",
      "intgross         1783 non-null float64\n",
      "code             1794 non-null object\n",
      "budget_2013      1794 non-null int64\n",
      "domgross_2013    1776 non-null float64\n",
      "intgross_2013    1783 non-null float64\n",
      "dtypes: float64(4), int64(3), object(6)\n",
      "memory usage: 182.3+ KB\n"
     ]
    }
   ],
   "source": [
    "df.info()"
   ]
  },
  {
   "cell_type": "code",
   "execution_count": 59,
   "metadata": {},
   "outputs": [
    {
     "data": {
      "text/plain": [
       "Index(['year', 'imdb', 'title', 'test', 'clean_test', 'binary', 'budget',\n",
       "       'domgross', 'intgross', 'code', 'budget_2013', 'domgross_2013',\n",
       "       'intgross_2013'],\n",
       "      dtype='object')"
      ]
     },
     "execution_count": 59,
     "metadata": {},
     "output_type": "execute_result"
    }
   ],
   "source": [
    "df.columns"
   ]
  },
  {
   "cell_type": "markdown",
   "metadata": {},
   "source": [
    "Now let's see what types of data we have in our dataset. What type of data is in the 'year' column in the dataset?"
   ]
  },
  {
   "cell_type": "code",
   "execution_count": 60,
   "metadata": {},
   "outputs": [
    {
     "data": {
      "text/plain": [
       "pandas.core.series.Series"
      ]
     },
     "execution_count": 60,
     "metadata": {},
     "output_type": "execute_result"
    }
   ],
   "source": [
    "type(df['year'])"
   ]
  },
  {
   "cell_type": "markdown",
   "metadata": {},
   "source": [
    "There are some nice built-in functions for giving summary statistics of dataframes, their columns and rows.\n",
    "\n",
    "Let's look at the year column:"
   ]
  },
  {
   "cell_type": "code",
   "execution_count": 61,
   "metadata": {},
   "outputs": [
    {
     "data": {
      "text/plain": [
       "count    1794.000000\n",
       "mean     2002.552397\n",
       "std         8.979731\n",
       "min      1970.000000\n",
       "25%      1998.000000\n",
       "50%      2005.000000\n",
       "75%      2009.000000\n",
       "max      2013.000000\n",
       "Name: year, dtype: float64"
      ]
     },
     "execution_count": 61,
     "metadata": {},
     "output_type": "execute_result"
    }
   ],
   "source": [
    "df['year'].describe()"
   ]
  },
  {
   "cell_type": "markdown",
   "metadata": {},
   "source": [
    "You can also apply these statistical functions directly to the data in a column:"
   ]
  },
  {
   "cell_type": "code",
   "execution_count": 62,
   "metadata": {},
   "outputs": [
    {
     "data": {
      "text/plain": [
       "2013"
      ]
     },
     "execution_count": 62,
     "metadata": {},
     "output_type": "execute_result"
    }
   ],
   "source": [
    "df['year'].max()"
   ]
  },
  {
   "cell_type": "markdown",
   "metadata": {},
   "source": [
    "Let's look at the 'binary' column."
   ]
  },
  {
   "cell_type": "code",
   "execution_count": 63,
   "metadata": {},
   "outputs": [
    {
     "data": {
      "text/plain": [
       "pandas.core.series.Series"
      ]
     },
     "execution_count": 63,
     "metadata": {},
     "output_type": "execute_result"
    }
   ],
   "source": [
    "type(df['binary'])"
   ]
  },
  {
   "cell_type": "markdown",
   "metadata": {},
   "source": [
    "Since this is a series (which operates a little bit like a list) we can use an index value to look at the first value (remember the index starts at zero). \n",
    "\n",
    "The most basic way to select subsets of the data is done using the `[ ]` operator. For a DataFrame, this works as the Series corresponding to the column label."
   ]
  },
  {
   "cell_type": "code",
   "execution_count": 64,
   "metadata": {},
   "outputs": [
    {
     "data": {
      "text/plain": [
       "str"
      ]
     },
     "execution_count": 64,
     "metadata": {},
     "output_type": "execute_result"
    }
   ],
   "source": [
    "type(df['binary'][0])"
   ]
  },
  {
   "cell_type": "code",
   "execution_count": 65,
   "metadata": {},
   "outputs": [
    {
     "data": {
      "text/plain": [
       "'FAIL'"
      ]
     },
     "execution_count": 65,
     "metadata": {},
     "output_type": "execute_result"
    }
   ],
   "source": [
    "df['binary'][0]"
   ]
  },
  {
   "cell_type": "code",
   "execution_count": 66,
   "metadata": {},
   "outputs": [
    {
     "data": {
      "text/plain": [
       "0    FAIL\n",
       "1    PASS\n",
       "2    FAIL\n",
       "3    FAIL\n",
       "4    FAIL\n",
       "5    FAIL\n",
       "6    FAIL\n",
       "7    PASS\n",
       "8    PASS\n",
       "9    FAIL\n",
       "Name: binary, dtype: object"
      ]
     },
     "execution_count": 66,
     "metadata": {},
     "output_type": "execute_result"
    }
   ],
   "source": [
    "df['binary'][0:10]"
   ]
  },
  {
   "cell_type": "markdown",
   "metadata": {},
   "source": [
    "You can also look at all of the unique values in a particular column using the .unique() function."
   ]
  },
  {
   "cell_type": "code",
   "execution_count": 67,
   "metadata": {},
   "outputs": [
    {
     "data": {
      "text/plain": [
       "array(['FAIL', 'PASS'], dtype=object)"
      ]
     },
     "execution_count": 67,
     "metadata": {},
     "output_type": "execute_result"
    }
   ],
   "source": [
    "df['binary'].unique()"
   ]
  },
  {
   "cell_type": "markdown",
   "metadata": {},
   "source": [
    "### Pandas Index\n",
    "An index is an immutable ndarray that implements an ordered, sliceable set. \n",
    "Indices are requires for pandas objects, but are automatically created as a RangeIndex if not otherwise given or set."
   ]
  },
  {
   "cell_type": "code",
   "execution_count": 68,
   "metadata": {},
   "outputs": [
    {
     "data": {
      "text/plain": [
       "RangeIndex(start=0, stop=1794, step=1)"
      ]
     },
     "execution_count": 68,
     "metadata": {},
     "output_type": "execute_result"
    }
   ],
   "source": [
    "df.index"
   ]
  },
  {
   "cell_type": "markdown",
   "metadata": {},
   "source": [
    "We can set a new index using an existing column in the df. \n",
    "`.set_index()` can take a couple of arguments: \n",
    "1. the name of the column to use\n",
    "2. whether to use the existing column as the index, where `inplace=True`."
   ]
  },
  {
   "cell_type": "code",
   "execution_count": 69,
   "metadata": {},
   "outputs": [],
   "source": [
    "df.set_index('title', inplace=True)"
   ]
  },
  {
   "cell_type": "code",
   "execution_count": 70,
   "metadata": {},
   "outputs": [
    {
     "data": {
      "text/plain": [
       "Index(['21 & Over', 'Dredd 3D', '12 Years a Slave', '2 Guns', '42', '47 Ronin',\n",
       "       'A Good Day to Die Hard', 'About Time', 'Admission', 'After Earth',\n",
       "       ...\n",
       "       'The Sting', '1776', 'Pink Flamingos', 'The Godfather',\n",
       "       'Escape from the Planet of the Apes', 'Shaft', 'Straw Dogs',\n",
       "       'The French Connection', 'Willy Wonka & the Chocolate Factory',\n",
       "       'Beyond the Valley of the Dolls'],\n",
       "      dtype='object', name='title', length=1794)"
      ]
     },
     "execution_count": 70,
     "metadata": {},
     "output_type": "execute_result"
    }
   ],
   "source": [
    "df.index"
   ]
  },
  {
   "cell_type": "markdown",
   "metadata": {},
   "source": [
    "We can also sort a dataframe by its index."
   ]
  },
  {
   "cell_type": "code",
   "execution_count": 71,
   "metadata": {},
   "outputs": [
    {
     "data": {
      "text/html": [
       "<div>\n",
       "<style scoped>\n",
       "    .dataframe tbody tr th:only-of-type {\n",
       "        vertical-align: middle;\n",
       "    }\n",
       "\n",
       "    .dataframe tbody tr th {\n",
       "        vertical-align: top;\n",
       "    }\n",
       "\n",
       "    .dataframe thead th {\n",
       "        text-align: right;\n",
       "    }\n",
       "</style>\n",
       "<table border=\"1\" class=\"dataframe\">\n",
       "  <thead>\n",
       "    <tr style=\"text-align: right;\">\n",
       "      <th></th>\n",
       "      <th>year</th>\n",
       "      <th>imdb</th>\n",
       "      <th>test</th>\n",
       "      <th>clean_test</th>\n",
       "      <th>binary</th>\n",
       "      <th>budget</th>\n",
       "      <th>domgross</th>\n",
       "      <th>intgross</th>\n",
       "      <th>code</th>\n",
       "      <th>budget_2013</th>\n",
       "      <th>domgross_2013</th>\n",
       "      <th>intgross_2013</th>\n",
       "    </tr>\n",
       "    <tr>\n",
       "      <th>title</th>\n",
       "      <th></th>\n",
       "      <th></th>\n",
       "      <th></th>\n",
       "      <th></th>\n",
       "      <th></th>\n",
       "      <th></th>\n",
       "      <th></th>\n",
       "      <th></th>\n",
       "      <th></th>\n",
       "      <th></th>\n",
       "      <th></th>\n",
       "      <th></th>\n",
       "    </tr>\n",
       "  </thead>\n",
       "  <tbody>\n",
       "    <tr>\n",
       "      <th>Zoolander</th>\n",
       "      <td>2001</td>\n",
       "      <td>http://www.imdb.com/title/tt0196229</td>\n",
       "      <td>ok-disagree</td>\n",
       "      <td>ok</td>\n",
       "      <td>PASS</td>\n",
       "      <td>28000000</td>\n",
       "      <td>45172250.0</td>\n",
       "      <td>60780981.0</td>\n",
       "      <td>2001PASS</td>\n",
       "      <td>36843687</td>\n",
       "      <td>59439723.0</td>\n",
       "      <td>79978408.0</td>\n",
       "    </tr>\n",
       "    <tr>\n",
       "      <th>Zoom</th>\n",
       "      <td>2006</td>\n",
       "      <td>http://www.imdb.com/title/tt0383060</td>\n",
       "      <td>ok</td>\n",
       "      <td>ok</td>\n",
       "      <td>PASS</td>\n",
       "      <td>35000000</td>\n",
       "      <td>11989328.0</td>\n",
       "      <td>12506188.0</td>\n",
       "      <td>2006PASS</td>\n",
       "      <td>40452872</td>\n",
       "      <td>13857222.0</td>\n",
       "      <td>14454606.0</td>\n",
       "    </tr>\n",
       "    <tr>\n",
       "      <th>Zwartboek</th>\n",
       "      <td>2006</td>\n",
       "      <td>http://www.imdb.com/title/tt0389557</td>\n",
       "      <td>ok</td>\n",
       "      <td>ok</td>\n",
       "      <td>PASS</td>\n",
       "      <td>22000000</td>\n",
       "      <td>4398532.0</td>\n",
       "      <td>27238354.0</td>\n",
       "      <td>2006PASS</td>\n",
       "      <td>25427520</td>\n",
       "      <td>5083807.0</td>\n",
       "      <td>31481990.0</td>\n",
       "    </tr>\n",
       "    <tr>\n",
       "      <th>[Rec]</th>\n",
       "      <td>2007</td>\n",
       "      <td>http://www.imdb.com/title/tt1038988</td>\n",
       "      <td>ok</td>\n",
       "      <td>ok</td>\n",
       "      <td>PASS</td>\n",
       "      <td>2100000</td>\n",
       "      <td>NaN</td>\n",
       "      <td>27117954.0</td>\n",
       "      <td>2007PASS</td>\n",
       "      <td>2359441</td>\n",
       "      <td>NaN</td>\n",
       "      <td>30468201.0</td>\n",
       "    </tr>\n",
       "    <tr>\n",
       "      <th>xXx</th>\n",
       "      <td>2002</td>\n",
       "      <td>http://www.imdb.com/title/tt0295701</td>\n",
       "      <td>notalk</td>\n",
       "      <td>notalk</td>\n",
       "      <td>FAIL</td>\n",
       "      <td>70000000</td>\n",
       "      <td>141930000.0</td>\n",
       "      <td>267200000.0</td>\n",
       "      <td>2002FAIL</td>\n",
       "      <td>90662545</td>\n",
       "      <td>183824786.0</td>\n",
       "      <td>346071886.0</td>\n",
       "    </tr>\n",
       "  </tbody>\n",
       "</table>\n",
       "</div>"
      ],
      "text/plain": [
       "           year                                 imdb         test clean_test  \\\n",
       "title                                                                          \n",
       "Zoolander  2001  http://www.imdb.com/title/tt0196229  ok-disagree         ok   \n",
       "Zoom       2006  http://www.imdb.com/title/tt0383060           ok         ok   \n",
       "Zwartboek  2006  http://www.imdb.com/title/tt0389557           ok         ok   \n",
       "[Rec]      2007  http://www.imdb.com/title/tt1038988           ok         ok   \n",
       "xXx        2002  http://www.imdb.com/title/tt0295701       notalk     notalk   \n",
       "\n",
       "          binary    budget     domgross     intgross      code  budget_2013  \\\n",
       "title                                                                         \n",
       "Zoolander   PASS  28000000   45172250.0   60780981.0  2001PASS     36843687   \n",
       "Zoom        PASS  35000000   11989328.0   12506188.0  2006PASS     40452872   \n",
       "Zwartboek   PASS  22000000    4398532.0   27238354.0  2006PASS     25427520   \n",
       "[Rec]       PASS   2100000          NaN   27117954.0  2007PASS      2359441   \n",
       "xXx         FAIL  70000000  141930000.0  267200000.0  2002FAIL     90662545   \n",
       "\n",
       "           domgross_2013  intgross_2013  \n",
       "title                                    \n",
       "Zoolander     59439723.0     79978408.0  \n",
       "Zoom          13857222.0     14454606.0  \n",
       "Zwartboek      5083807.0     31481990.0  \n",
       "[Rec]                NaN     30468201.0  \n",
       "xXx          183824786.0    346071886.0  "
      ]
     },
     "execution_count": 71,
     "metadata": {},
     "output_type": "execute_result"
    }
   ],
   "source": [
    "df.sort_index(inplace=True)\n",
    "df.tail(5)"
   ]
  },
  {
   "cell_type": "markdown",
   "metadata": {},
   "source": [
    "Depending on what you want to accomplish, titles might not make for a very convenient index, so let's reset it."
   ]
  },
  {
   "cell_type": "code",
   "execution_count": 72,
   "metadata": {},
   "outputs": [
    {
     "data": {
      "text/plain": [
       "RangeIndex(start=0, stop=1794, step=1)"
      ]
     },
     "execution_count": 72,
     "metadata": {},
     "output_type": "execute_result"
    }
   ],
   "source": [
    "df.reset_index(inplace=True)\n",
    "df.index"
   ]
  },
  {
   "cell_type": "markdown",
   "metadata": {},
   "source": [
    "You can also create more than one index, using a Multi-Index. Let's use both the year and binary columns as indexes."
   ]
  },
  {
   "cell_type": "code",
   "execution_count": 73,
   "metadata": {},
   "outputs": [
    {
     "data": {
      "text/html": [
       "<div>\n",
       "<style scoped>\n",
       "    .dataframe tbody tr th:only-of-type {\n",
       "        vertical-align: middle;\n",
       "    }\n",
       "\n",
       "    .dataframe tbody tr th {\n",
       "        vertical-align: top;\n",
       "    }\n",
       "\n",
       "    .dataframe thead th {\n",
       "        text-align: right;\n",
       "    }\n",
       "</style>\n",
       "<table border=\"1\" class=\"dataframe\">\n",
       "  <thead>\n",
       "    <tr style=\"text-align: right;\">\n",
       "      <th></th>\n",
       "      <th></th>\n",
       "      <th>title</th>\n",
       "      <th>imdb</th>\n",
       "      <th>test</th>\n",
       "      <th>clean_test</th>\n",
       "      <th>budget</th>\n",
       "      <th>domgross</th>\n",
       "      <th>intgross</th>\n",
       "      <th>code</th>\n",
       "      <th>budget_2013</th>\n",
       "      <th>domgross_2013</th>\n",
       "      <th>intgross_2013</th>\n",
       "    </tr>\n",
       "    <tr>\n",
       "      <th>year</th>\n",
       "      <th>binary</th>\n",
       "      <th></th>\n",
       "      <th></th>\n",
       "      <th></th>\n",
       "      <th></th>\n",
       "      <th></th>\n",
       "      <th></th>\n",
       "      <th></th>\n",
       "      <th></th>\n",
       "      <th></th>\n",
       "      <th></th>\n",
       "      <th></th>\n",
       "    </tr>\n",
       "  </thead>\n",
       "  <tbody>\n",
       "    <tr>\n",
       "      <th>2009</th>\n",
       "      <th>FAIL</th>\n",
       "      <td>(500) Days of Summer</td>\n",
       "      <td>http://www.imdb.com/title/tt1022603</td>\n",
       "      <td>notalk-disagree</td>\n",
       "      <td>notalk</td>\n",
       "      <td>7500000</td>\n",
       "      <td>32391374.0</td>\n",
       "      <td>60803210.0</td>\n",
       "      <td>2009FAIL</td>\n",
       "      <td>8142987</td>\n",
       "      <td>35168338.0</td>\n",
       "      <td>66015966.0</td>\n",
       "    </tr>\n",
       "    <tr>\n",
       "      <th>1999</th>\n",
       "      <th>PASS</th>\n",
       "      <td>10 Things I Hate About You</td>\n",
       "      <td>http://www.imdb.com/title/tt0147800</td>\n",
       "      <td>ok</td>\n",
       "      <td>ok</td>\n",
       "      <td>13000000</td>\n",
       "      <td>38177966.0</td>\n",
       "      <td>60414025.0</td>\n",
       "      <td>1999PASS</td>\n",
       "      <td>18180006</td>\n",
       "      <td>53390436.0</td>\n",
       "      <td>84486720.0</td>\n",
       "    </tr>\n",
       "    <tr>\n",
       "      <th>2013</th>\n",
       "      <th>FAIL</th>\n",
       "      <td>12 Years a Slave</td>\n",
       "      <td>http://www.imdb.com/title/tt2024544</td>\n",
       "      <td>notalk-disagree</td>\n",
       "      <td>notalk</td>\n",
       "      <td>20000000</td>\n",
       "      <td>53107035.0</td>\n",
       "      <td>158607035.0</td>\n",
       "      <td>2013FAIL</td>\n",
       "      <td>20000000</td>\n",
       "      <td>53107035.0</td>\n",
       "      <td>158607035.0</td>\n",
       "    </tr>\n",
       "    <tr>\n",
       "      <th>2010</th>\n",
       "      <th>FAIL</th>\n",
       "      <td>127 Hours</td>\n",
       "      <td>http://www.imdb.com/title/tt1542344</td>\n",
       "      <td>dubious-disagree</td>\n",
       "      <td>dubious</td>\n",
       "      <td>18000000</td>\n",
       "      <td>18335230.0</td>\n",
       "      <td>60735230.0</td>\n",
       "      <td>2010FAIL</td>\n",
       "      <td>19228173</td>\n",
       "      <td>19586277.0</td>\n",
       "      <td>64879307.0</td>\n",
       "    </tr>\n",
       "    <tr>\n",
       "      <th>2004</th>\n",
       "      <th>PASS</th>\n",
       "      <td>13 Going on 30</td>\n",
       "      <td>http://www.imdb.com/title/tt0337563</td>\n",
       "      <td>ok</td>\n",
       "      <td>ok</td>\n",
       "      <td>30000000</td>\n",
       "      <td>57139723.0</td>\n",
       "      <td>96439723.0</td>\n",
       "      <td>2004PASS</td>\n",
       "      <td>36995786</td>\n",
       "      <td>70464299.0</td>\n",
       "      <td>118928779.0</td>\n",
       "    </tr>\n",
       "  </tbody>\n",
       "</table>\n",
       "</div>"
      ],
      "text/plain": [
       "                                  title                                 imdb  \\\n",
       "year binary                                                                    \n",
       "2009 FAIL          (500) Days of Summer  http://www.imdb.com/title/tt1022603   \n",
       "1999 PASS    10 Things I Hate About You  http://www.imdb.com/title/tt0147800   \n",
       "2013 FAIL              12 Years a Slave  http://www.imdb.com/title/tt2024544   \n",
       "2010 FAIL                     127 Hours  http://www.imdb.com/title/tt1542344   \n",
       "2004 PASS                13 Going on 30  http://www.imdb.com/title/tt0337563   \n",
       "\n",
       "                         test clean_test    budget    domgross     intgross  \\\n",
       "year binary                                                                   \n",
       "2009 FAIL     notalk-disagree     notalk   7500000  32391374.0   60803210.0   \n",
       "1999 PASS                  ok         ok  13000000  38177966.0   60414025.0   \n",
       "2013 FAIL     notalk-disagree     notalk  20000000  53107035.0  158607035.0   \n",
       "2010 FAIL    dubious-disagree    dubious  18000000  18335230.0   60735230.0   \n",
       "2004 PASS                  ok         ok  30000000  57139723.0   96439723.0   \n",
       "\n",
       "                 code  budget_2013  domgross_2013  intgross_2013  \n",
       "year binary                                                       \n",
       "2009 FAIL    2009FAIL      8142987     35168338.0     66015966.0  \n",
       "1999 PASS    1999PASS     18180006     53390436.0     84486720.0  \n",
       "2013 FAIL    2013FAIL     20000000     53107035.0    158607035.0  \n",
       "2010 FAIL    2010FAIL     19228173     19586277.0     64879307.0  \n",
       "2004 PASS    2004PASS     36995786     70464299.0    118928779.0  "
      ]
     },
     "execution_count": 73,
     "metadata": {},
     "output_type": "execute_result"
    }
   ],
   "source": [
    "df.set_index(['year','binary'], inplace = True)\n",
    "df.head(5)"
   ]
  },
  {
   "cell_type": "markdown",
   "metadata": {},
   "source": [
    "### The .loc indexer\n",
    "\n",
    "The .loc indexer allows multidimensional selection based on the label of the index. This can be more powerful than using a rangeindex since we can look at specific combinations of factors."
   ]
  },
  {
   "cell_type": "markdown",
   "metadata": {},
   "source": [
    "Here we use .loc() to show the title column for all rows that have 2013 and PASS in the year and binary indexes."
   ]
  },
  {
   "cell_type": "code",
   "execution_count": 74,
   "metadata": {},
   "outputs": [
    {
     "name": "stderr",
     "output_type": "stream",
     "text": [
      "/anaconda3/lib/python3.7/site-packages/ipykernel_launcher.py:1: PerformanceWarning: indexing past lexsort depth may impact performance.\n",
      "  \"\"\"Entry point for launching an IPython kernel.\n"
     ]
    },
    {
     "data": {
      "text/plain": [
       "year  binary\n",
       "2013  PASS                                 About Time\n",
       "      PASS                                  Admission\n",
       "      PASS                            American Hustle\n",
       "      PASS                       August: Osage County\n",
       "      PASS                        Beautiful Creatures\n",
       "      PASS                               Blue Jasmine\n",
       "      PASS                                     Carrie\n",
       "      PASS                            Despicable Me 2\n",
       "      PASS                                    Elysium\n",
       "      PASS                                       Epic\n",
       "      PASS                   Escape from Planet Earth\n",
       "      PASS                                  Evil Dead\n",
       "      PASS                         Fast and Furious 6\n",
       "      PASS                                     Frozen\n",
       "      PASS                      G.I. Joe: Retaliation\n",
       "      PASS                                     Gloria\n",
       "      PASS             Hansel & Gretel: Witch Hunters\n",
       "      PASS                                 Kick-Ass 2\n",
       "      PASS                    Lee Daniels' The Butler\n",
       "      PASS                              Machete Kills\n",
       "      PASS                                       Mama\n",
       "      PASS                               Man of Steel\n",
       "      PASS                                   Nebraska\n",
       "      PASS                  Oz the Great and Powerful\n",
       "      PASS                                     Parker\n",
       "      PASS             Percy Jackson: Sea of Monsters\n",
       "      PASS                                  Prisoners\n",
       "      PASS                                      Red 2\n",
       "      PASS                                 Safe Haven\n",
       "      PASS                           Saving Mr. Banks\n",
       "      PASS                               Side Effects\n",
       "      PASS                          Texas Chainsaw 3D\n",
       "      PASS                            The Big Wedding\n",
       "      PASS                             The Book Thief\n",
       "      PASS                                   The Call\n",
       "      PASS                              The Conjuring\n",
       "      PASS                              The Counselor\n",
       "      PASS                                   The Heat\n",
       "      PASS            The Hunger Games: Catching Fire\n",
       "      PASS                  The Last Exorcism Part II\n",
       "      PASS      The Mortal Instruments: City of Bones\n",
       "      PASS                               The Smurfs 2\n",
       "      PASS                             The To Do List\n",
       "      PASS                           The Way Way Back\n",
       "      PASS                              The Wolverine\n",
       "      PASS                          We're the Millers\n",
       "Name: title, dtype: object"
      ]
     },
     "execution_count": 74,
     "metadata": {},
     "output_type": "execute_result"
    }
   ],
   "source": [
    "df.loc[2013,'PASS']['title']"
   ]
  },
  {
   "cell_type": "markdown",
   "metadata": {},
   "source": [
    "If you wanted to work with those titles later, you could save them to a list using the .to_list() function."
   ]
  },
  {
   "cell_type": "code",
   "execution_count": 75,
   "metadata": {},
   "outputs": [
    {
     "name": "stdout",
     "output_type": "stream",
     "text": [
      "['About Time', 'Admission', 'American Hustle', 'August: Osage County', 'Beautiful Creatures', 'Blue Jasmine', 'Carrie', 'Despicable Me 2', 'Elysium', 'Epic']\n"
     ]
    },
    {
     "name": "stderr",
     "output_type": "stream",
     "text": [
      "/anaconda3/lib/python3.7/site-packages/ipykernel_launcher.py:1: PerformanceWarning: indexing past lexsort depth may impact performance.\n",
      "  \"\"\"Entry point for launching an IPython kernel.\n"
     ]
    }
   ],
   "source": [
    "movies_2013_list = df.loc[2013,'PASS']['title'].to_list()\n",
    "print(movies_2013_list[0:10])"
   ]
  },
  {
   "cell_type": "markdown",
   "metadata": {},
   "source": [
    "### Editing columns"
   ]
  },
  {
   "cell_type": "markdown",
   "metadata": {},
   "source": [
    "We can rename, drop, and add new columns. Use .rename() to set a new name for the imdb column to \"URL\" since that's a more accurate description of that content."
   ]
  },
  {
   "cell_type": "code",
   "execution_count": 76,
   "metadata": {},
   "outputs": [
    {
     "data": {
      "text/html": [
       "<div>\n",
       "<style scoped>\n",
       "    .dataframe tbody tr th:only-of-type {\n",
       "        vertical-align: middle;\n",
       "    }\n",
       "\n",
       "    .dataframe tbody tr th {\n",
       "        vertical-align: top;\n",
       "    }\n",
       "\n",
       "    .dataframe thead th {\n",
       "        text-align: right;\n",
       "    }\n",
       "</style>\n",
       "<table border=\"1\" class=\"dataframe\">\n",
       "  <thead>\n",
       "    <tr style=\"text-align: right;\">\n",
       "      <th></th>\n",
       "      <th></th>\n",
       "      <th>title</th>\n",
       "      <th>URL</th>\n",
       "      <th>test</th>\n",
       "      <th>clean_test</th>\n",
       "      <th>budget</th>\n",
       "      <th>domgross</th>\n",
       "      <th>intgross</th>\n",
       "      <th>code</th>\n",
       "      <th>budget_2013</th>\n",
       "      <th>domgross_2013</th>\n",
       "      <th>intgross_2013</th>\n",
       "    </tr>\n",
       "    <tr>\n",
       "      <th>year</th>\n",
       "      <th>binary</th>\n",
       "      <th></th>\n",
       "      <th></th>\n",
       "      <th></th>\n",
       "      <th></th>\n",
       "      <th></th>\n",
       "      <th></th>\n",
       "      <th></th>\n",
       "      <th></th>\n",
       "      <th></th>\n",
       "      <th></th>\n",
       "      <th></th>\n",
       "    </tr>\n",
       "  </thead>\n",
       "  <tbody>\n",
       "    <tr>\n",
       "      <th>2009</th>\n",
       "      <th>FAIL</th>\n",
       "      <td>(500) Days of Summer</td>\n",
       "      <td>http://www.imdb.com/title/tt1022603</td>\n",
       "      <td>notalk-disagree</td>\n",
       "      <td>notalk</td>\n",
       "      <td>7500000</td>\n",
       "      <td>32391374.0</td>\n",
       "      <td>60803210.0</td>\n",
       "      <td>2009FAIL</td>\n",
       "      <td>8142987</td>\n",
       "      <td>35168338.0</td>\n",
       "      <td>66015966.0</td>\n",
       "    </tr>\n",
       "    <tr>\n",
       "      <th>1999</th>\n",
       "      <th>PASS</th>\n",
       "      <td>10 Things I Hate About You</td>\n",
       "      <td>http://www.imdb.com/title/tt0147800</td>\n",
       "      <td>ok</td>\n",
       "      <td>ok</td>\n",
       "      <td>13000000</td>\n",
       "      <td>38177966.0</td>\n",
       "      <td>60414025.0</td>\n",
       "      <td>1999PASS</td>\n",
       "      <td>18180006</td>\n",
       "      <td>53390436.0</td>\n",
       "      <td>84486720.0</td>\n",
       "    </tr>\n",
       "    <tr>\n",
       "      <th>2013</th>\n",
       "      <th>FAIL</th>\n",
       "      <td>12 Years a Slave</td>\n",
       "      <td>http://www.imdb.com/title/tt2024544</td>\n",
       "      <td>notalk-disagree</td>\n",
       "      <td>notalk</td>\n",
       "      <td>20000000</td>\n",
       "      <td>53107035.0</td>\n",
       "      <td>158607035.0</td>\n",
       "      <td>2013FAIL</td>\n",
       "      <td>20000000</td>\n",
       "      <td>53107035.0</td>\n",
       "      <td>158607035.0</td>\n",
       "    </tr>\n",
       "    <tr>\n",
       "      <th>2010</th>\n",
       "      <th>FAIL</th>\n",
       "      <td>127 Hours</td>\n",
       "      <td>http://www.imdb.com/title/tt1542344</td>\n",
       "      <td>dubious-disagree</td>\n",
       "      <td>dubious</td>\n",
       "      <td>18000000</td>\n",
       "      <td>18335230.0</td>\n",
       "      <td>60735230.0</td>\n",
       "      <td>2010FAIL</td>\n",
       "      <td>19228173</td>\n",
       "      <td>19586277.0</td>\n",
       "      <td>64879307.0</td>\n",
       "    </tr>\n",
       "    <tr>\n",
       "      <th>2004</th>\n",
       "      <th>PASS</th>\n",
       "      <td>13 Going on 30</td>\n",
       "      <td>http://www.imdb.com/title/tt0337563</td>\n",
       "      <td>ok</td>\n",
       "      <td>ok</td>\n",
       "      <td>30000000</td>\n",
       "      <td>57139723.0</td>\n",
       "      <td>96439723.0</td>\n",
       "      <td>2004PASS</td>\n",
       "      <td>36995786</td>\n",
       "      <td>70464299.0</td>\n",
       "      <td>118928779.0</td>\n",
       "    </tr>\n",
       "  </tbody>\n",
       "</table>\n",
       "</div>"
      ],
      "text/plain": [
       "                                  title                                  URL  \\\n",
       "year binary                                                                    \n",
       "2009 FAIL          (500) Days of Summer  http://www.imdb.com/title/tt1022603   \n",
       "1999 PASS    10 Things I Hate About You  http://www.imdb.com/title/tt0147800   \n",
       "2013 FAIL              12 Years a Slave  http://www.imdb.com/title/tt2024544   \n",
       "2010 FAIL                     127 Hours  http://www.imdb.com/title/tt1542344   \n",
       "2004 PASS                13 Going on 30  http://www.imdb.com/title/tt0337563   \n",
       "\n",
       "                         test clean_test    budget    domgross     intgross  \\\n",
       "year binary                                                                   \n",
       "2009 FAIL     notalk-disagree     notalk   7500000  32391374.0   60803210.0   \n",
       "1999 PASS                  ok         ok  13000000  38177966.0   60414025.0   \n",
       "2013 FAIL     notalk-disagree     notalk  20000000  53107035.0  158607035.0   \n",
       "2010 FAIL    dubious-disagree    dubious  18000000  18335230.0   60735230.0   \n",
       "2004 PASS                  ok         ok  30000000  57139723.0   96439723.0   \n",
       "\n",
       "                 code  budget_2013  domgross_2013  intgross_2013  \n",
       "year binary                                                       \n",
       "2009 FAIL    2009FAIL      8142987     35168338.0     66015966.0  \n",
       "1999 PASS    1999PASS     18180006     53390436.0     84486720.0  \n",
       "2013 FAIL    2013FAIL     20000000     53107035.0    158607035.0  \n",
       "2010 FAIL    2010FAIL     19228173     19586277.0     64879307.0  \n",
       "2004 PASS    2004PASS     36995786     70464299.0    118928779.0  "
      ]
     },
     "execution_count": 76,
     "metadata": {},
     "output_type": "execute_result"
    }
   ],
   "source": [
    "df.rename(columns = {'imdb': 'URL'}, inplace = True)\n",
    "df.head(5)"
   ]
  },
  {
   "cell_type": "markdown",
   "metadata": {},
   "source": [
    "We can add a new blank column by declaring it in a similar manner as we would declare a new variable."
   ]
  },
  {
   "cell_type": "code",
   "execution_count": 77,
   "metadata": {},
   "outputs": [],
   "source": [
    "df['test_col'] = '' # you could also add a string or other content here that would be assigned to every row of the df column 'test_col'"
   ]
  },
  {
   "cell_type": "code",
   "execution_count": 78,
   "metadata": {},
   "outputs": [
    {
     "data": {
      "text/html": [
       "<div>\n",
       "<style scoped>\n",
       "    .dataframe tbody tr th:only-of-type {\n",
       "        vertical-align: middle;\n",
       "    }\n",
       "\n",
       "    .dataframe tbody tr th {\n",
       "        vertical-align: top;\n",
       "    }\n",
       "\n",
       "    .dataframe thead th {\n",
       "        text-align: right;\n",
       "    }\n",
       "</style>\n",
       "<table border=\"1\" class=\"dataframe\">\n",
       "  <thead>\n",
       "    <tr style=\"text-align: right;\">\n",
       "      <th></th>\n",
       "      <th></th>\n",
       "      <th>title</th>\n",
       "      <th>URL</th>\n",
       "      <th>test</th>\n",
       "      <th>clean_test</th>\n",
       "      <th>budget</th>\n",
       "      <th>domgross</th>\n",
       "      <th>intgross</th>\n",
       "      <th>code</th>\n",
       "      <th>budget_2013</th>\n",
       "      <th>domgross_2013</th>\n",
       "      <th>intgross_2013</th>\n",
       "      <th>test_col</th>\n",
       "    </tr>\n",
       "    <tr>\n",
       "      <th>year</th>\n",
       "      <th>binary</th>\n",
       "      <th></th>\n",
       "      <th></th>\n",
       "      <th></th>\n",
       "      <th></th>\n",
       "      <th></th>\n",
       "      <th></th>\n",
       "      <th></th>\n",
       "      <th></th>\n",
       "      <th></th>\n",
       "      <th></th>\n",
       "      <th></th>\n",
       "      <th></th>\n",
       "    </tr>\n",
       "  </thead>\n",
       "  <tbody>\n",
       "    <tr>\n",
       "      <th>2009</th>\n",
       "      <th>FAIL</th>\n",
       "      <td>(500) Days of Summer</td>\n",
       "      <td>http://www.imdb.com/title/tt1022603</td>\n",
       "      <td>notalk-disagree</td>\n",
       "      <td>notalk</td>\n",
       "      <td>7500000</td>\n",
       "      <td>32391374.0</td>\n",
       "      <td>60803210.0</td>\n",
       "      <td>2009FAIL</td>\n",
       "      <td>8142987</td>\n",
       "      <td>35168338.0</td>\n",
       "      <td>66015966.0</td>\n",
       "      <td></td>\n",
       "    </tr>\n",
       "    <tr>\n",
       "      <th>1999</th>\n",
       "      <th>PASS</th>\n",
       "      <td>10 Things I Hate About You</td>\n",
       "      <td>http://www.imdb.com/title/tt0147800</td>\n",
       "      <td>ok</td>\n",
       "      <td>ok</td>\n",
       "      <td>13000000</td>\n",
       "      <td>38177966.0</td>\n",
       "      <td>60414025.0</td>\n",
       "      <td>1999PASS</td>\n",
       "      <td>18180006</td>\n",
       "      <td>53390436.0</td>\n",
       "      <td>84486720.0</td>\n",
       "      <td></td>\n",
       "    </tr>\n",
       "    <tr>\n",
       "      <th>2013</th>\n",
       "      <th>FAIL</th>\n",
       "      <td>12 Years a Slave</td>\n",
       "      <td>http://www.imdb.com/title/tt2024544</td>\n",
       "      <td>notalk-disagree</td>\n",
       "      <td>notalk</td>\n",
       "      <td>20000000</td>\n",
       "      <td>53107035.0</td>\n",
       "      <td>158607035.0</td>\n",
       "      <td>2013FAIL</td>\n",
       "      <td>20000000</td>\n",
       "      <td>53107035.0</td>\n",
       "      <td>158607035.0</td>\n",
       "      <td></td>\n",
       "    </tr>\n",
       "  </tbody>\n",
       "</table>\n",
       "</div>"
      ],
      "text/plain": [
       "                                  title                                  URL  \\\n",
       "year binary                                                                    \n",
       "2009 FAIL          (500) Days of Summer  http://www.imdb.com/title/tt1022603   \n",
       "1999 PASS    10 Things I Hate About You  http://www.imdb.com/title/tt0147800   \n",
       "2013 FAIL              12 Years a Slave  http://www.imdb.com/title/tt2024544   \n",
       "\n",
       "                        test clean_test    budget    domgross     intgross  \\\n",
       "year binary                                                                  \n",
       "2009 FAIL    notalk-disagree     notalk   7500000  32391374.0   60803210.0   \n",
       "1999 PASS                 ok         ok  13000000  38177966.0   60414025.0   \n",
       "2013 FAIL    notalk-disagree     notalk  20000000  53107035.0  158607035.0   \n",
       "\n",
       "                 code  budget_2013  domgross_2013  intgross_2013 test_col  \n",
       "year binary                                                                \n",
       "2009 FAIL    2009FAIL      8142987     35168338.0     66015966.0           \n",
       "1999 PASS    1999PASS     18180006     53390436.0     84486720.0           \n",
       "2013 FAIL    2013FAIL     20000000     53107035.0    158607035.0           "
      ]
     },
     "execution_count": 78,
     "metadata": {},
     "output_type": "execute_result"
    }
   ],
   "source": [
    "df.head(3)"
   ]
  },
  {
   "cell_type": "markdown",
   "metadata": {},
   "source": [
    "We could also take a more sophisticated approach, and create a new column by editing the data from another column. Here we use the str.split() function to split the URL column on the fourth '/' that occurs, and send the content following that fourth forward slash to a new column that we'll call 'imdb_id.'\n",
    "\n",
    "1. First we declare a new column. \n",
    "2. It will equal the df['URL'] column which we split using str.split(). \n",
    "3. str.split() first takes a parameter of the string that we want to split on. \n",
    "4. The second parameter, expand=True, tells the function to expand the split strings into separate columns.\n",
    "5. And the [4] refers to the fourth occurrence of the '/' in the string. "
   ]
  },
  {
   "cell_type": "code",
   "execution_count": 79,
   "metadata": {},
   "outputs": [
    {
     "data": {
      "text/html": [
       "<div>\n",
       "<style scoped>\n",
       "    .dataframe tbody tr th:only-of-type {\n",
       "        vertical-align: middle;\n",
       "    }\n",
       "\n",
       "    .dataframe tbody tr th {\n",
       "        vertical-align: top;\n",
       "    }\n",
       "\n",
       "    .dataframe thead th {\n",
       "        text-align: right;\n",
       "    }\n",
       "</style>\n",
       "<table border=\"1\" class=\"dataframe\">\n",
       "  <thead>\n",
       "    <tr style=\"text-align: right;\">\n",
       "      <th></th>\n",
       "      <th></th>\n",
       "      <th>title</th>\n",
       "      <th>URL</th>\n",
       "      <th>test</th>\n",
       "      <th>clean_test</th>\n",
       "      <th>budget</th>\n",
       "      <th>domgross</th>\n",
       "      <th>intgross</th>\n",
       "      <th>code</th>\n",
       "      <th>budget_2013</th>\n",
       "      <th>domgross_2013</th>\n",
       "      <th>intgross_2013</th>\n",
       "      <th>test_col</th>\n",
       "      <th>imdb_id</th>\n",
       "    </tr>\n",
       "    <tr>\n",
       "      <th>year</th>\n",
       "      <th>binary</th>\n",
       "      <th></th>\n",
       "      <th></th>\n",
       "      <th></th>\n",
       "      <th></th>\n",
       "      <th></th>\n",
       "      <th></th>\n",
       "      <th></th>\n",
       "      <th></th>\n",
       "      <th></th>\n",
       "      <th></th>\n",
       "      <th></th>\n",
       "      <th></th>\n",
       "      <th></th>\n",
       "    </tr>\n",
       "  </thead>\n",
       "  <tbody>\n",
       "    <tr>\n",
       "      <th>2009</th>\n",
       "      <th>FAIL</th>\n",
       "      <td>(500) Days of Summer</td>\n",
       "      <td>http://www.imdb.com/title/tt1022603</td>\n",
       "      <td>notalk-disagree</td>\n",
       "      <td>notalk</td>\n",
       "      <td>7500000</td>\n",
       "      <td>32391374.0</td>\n",
       "      <td>60803210.0</td>\n",
       "      <td>2009FAIL</td>\n",
       "      <td>8142987</td>\n",
       "      <td>35168338.0</td>\n",
       "      <td>66015966.0</td>\n",
       "      <td></td>\n",
       "      <td>tt1022603</td>\n",
       "    </tr>\n",
       "    <tr>\n",
       "      <th>1999</th>\n",
       "      <th>PASS</th>\n",
       "      <td>10 Things I Hate About You</td>\n",
       "      <td>http://www.imdb.com/title/tt0147800</td>\n",
       "      <td>ok</td>\n",
       "      <td>ok</td>\n",
       "      <td>13000000</td>\n",
       "      <td>38177966.0</td>\n",
       "      <td>60414025.0</td>\n",
       "      <td>1999PASS</td>\n",
       "      <td>18180006</td>\n",
       "      <td>53390436.0</td>\n",
       "      <td>84486720.0</td>\n",
       "      <td></td>\n",
       "      <td>tt0147800</td>\n",
       "    </tr>\n",
       "    <tr>\n",
       "      <th>2013</th>\n",
       "      <th>FAIL</th>\n",
       "      <td>12 Years a Slave</td>\n",
       "      <td>http://www.imdb.com/title/tt2024544</td>\n",
       "      <td>notalk-disagree</td>\n",
       "      <td>notalk</td>\n",
       "      <td>20000000</td>\n",
       "      <td>53107035.0</td>\n",
       "      <td>158607035.0</td>\n",
       "      <td>2013FAIL</td>\n",
       "      <td>20000000</td>\n",
       "      <td>53107035.0</td>\n",
       "      <td>158607035.0</td>\n",
       "      <td></td>\n",
       "      <td>tt2024544</td>\n",
       "    </tr>\n",
       "    <tr>\n",
       "      <th>2010</th>\n",
       "      <th>FAIL</th>\n",
       "      <td>127 Hours</td>\n",
       "      <td>http://www.imdb.com/title/tt1542344</td>\n",
       "      <td>dubious-disagree</td>\n",
       "      <td>dubious</td>\n",
       "      <td>18000000</td>\n",
       "      <td>18335230.0</td>\n",
       "      <td>60735230.0</td>\n",
       "      <td>2010FAIL</td>\n",
       "      <td>19228173</td>\n",
       "      <td>19586277.0</td>\n",
       "      <td>64879307.0</td>\n",
       "      <td></td>\n",
       "      <td>tt1542344</td>\n",
       "    </tr>\n",
       "    <tr>\n",
       "      <th>2004</th>\n",
       "      <th>PASS</th>\n",
       "      <td>13 Going on 30</td>\n",
       "      <td>http://www.imdb.com/title/tt0337563</td>\n",
       "      <td>ok</td>\n",
       "      <td>ok</td>\n",
       "      <td>30000000</td>\n",
       "      <td>57139723.0</td>\n",
       "      <td>96439723.0</td>\n",
       "      <td>2004PASS</td>\n",
       "      <td>36995786</td>\n",
       "      <td>70464299.0</td>\n",
       "      <td>118928779.0</td>\n",
       "      <td></td>\n",
       "      <td>tt0337563</td>\n",
       "    </tr>\n",
       "  </tbody>\n",
       "</table>\n",
       "</div>"
      ],
      "text/plain": [
       "                                  title                                  URL  \\\n",
       "year binary                                                                    \n",
       "2009 FAIL          (500) Days of Summer  http://www.imdb.com/title/tt1022603   \n",
       "1999 PASS    10 Things I Hate About You  http://www.imdb.com/title/tt0147800   \n",
       "2013 FAIL              12 Years a Slave  http://www.imdb.com/title/tt2024544   \n",
       "2010 FAIL                     127 Hours  http://www.imdb.com/title/tt1542344   \n",
       "2004 PASS                13 Going on 30  http://www.imdb.com/title/tt0337563   \n",
       "\n",
       "                         test clean_test    budget    domgross     intgross  \\\n",
       "year binary                                                                   \n",
       "2009 FAIL     notalk-disagree     notalk   7500000  32391374.0   60803210.0   \n",
       "1999 PASS                  ok         ok  13000000  38177966.0   60414025.0   \n",
       "2013 FAIL     notalk-disagree     notalk  20000000  53107035.0  158607035.0   \n",
       "2010 FAIL    dubious-disagree    dubious  18000000  18335230.0   60735230.0   \n",
       "2004 PASS                  ok         ok  30000000  57139723.0   96439723.0   \n",
       "\n",
       "                 code  budget_2013  domgross_2013  intgross_2013 test_col  \\\n",
       "year binary                                                                 \n",
       "2009 FAIL    2009FAIL      8142987     35168338.0     66015966.0            \n",
       "1999 PASS    1999PASS     18180006     53390436.0     84486720.0            \n",
       "2013 FAIL    2013FAIL     20000000     53107035.0    158607035.0            \n",
       "2010 FAIL    2010FAIL     19228173     19586277.0     64879307.0            \n",
       "2004 PASS    2004PASS     36995786     70464299.0    118928779.0            \n",
       "\n",
       "               imdb_id  \n",
       "year binary             \n",
       "2009 FAIL    tt1022603  \n",
       "1999 PASS    tt0147800  \n",
       "2013 FAIL    tt2024544  \n",
       "2010 FAIL    tt1542344  \n",
       "2004 PASS    tt0337563  "
      ]
     },
     "execution_count": 79,
     "metadata": {},
     "output_type": "execute_result"
    }
   ],
   "source": [
    "df['imdb_id'] = df['URL'].str.split('/',expand = True)[4]\n",
    "df.head(5)"
   ]
  },
  {
   "cell_type": "markdown",
   "metadata": {},
   "source": [
    "### Logic Looping\n",
    "\n",
    "Let's look at two powerful tools to to build efficient code and to clean and transform your data:\n",
    "* if/else statements\n",
    "* for loops\n",
    "\n",
    "#### if/else\n",
    "We can use if and else statements to provide conditional responses to particular cases. \n",
    "\n",
    "Note that there's a difference between the = operator which assigns a value to a variable and a conditional == which checks to see if something is true or not. \n",
    "\n",
    "You can also use greater than and less than comparison/relational operators. Here's a [cheat sheet](https://www.dummies.com/programming/python/beginning-programming-python-dummies-cheat-sheet/) of all kinds of python operators. "
   ]
  },
  {
   "cell_type": "code",
   "execution_count": 80,
   "metadata": {},
   "outputs": [
    {
     "name": "stdout",
     "output_type": "stream",
     "text": [
      "a is equal to 7\n"
     ]
    }
   ],
   "source": [
    "a = 7\n",
    "if a == 7:\n",
    "    print('a is equal to 7')\n",
    "else:\n",
    "    print('a is not equal to 7')"
   ]
  },
  {
   "cell_type": "markdown",
   "metadata": {},
   "source": [
    "We can build a stack of conditionals using 'elif'."
   ]
  },
  {
   "cell_type": "code",
   "execution_count": 81,
   "metadata": {},
   "outputs": [
    {
     "name": "stdout",
     "output_type": "stream",
     "text": [
      "a is equal to 5\n"
     ]
    }
   ],
   "source": [
    "a = 5\n",
    "if a == 7:\n",
    "    print('a is equal to 7')\n",
    "elif a == 5:\n",
    "    print('a is equal to 5')\n",
    "else:\n",
    "    print('a is not equal to 7 or 5')"
   ]
  },
  {
   "cell_type": "markdown",
   "metadata": {},
   "source": [
    "#### For loop syntax\n",
    "A for loop always iterates through a collection of items, like a list.\n",
    "```\n",
    "for x in y:\n",
    "    do_something # the code in the loop needs to be indented\n",
    "    do_another_thing\n",
    "```"
   ]
  },
  {
   "cell_type": "code",
   "execution_count": 82,
   "metadata": {},
   "outputs": [
    {
     "name": "stdout",
     "output_type": "stream",
     "text": [
      "1\n",
      "3\n",
      "7\n",
      "9\n"
     ]
    }
   ],
   "source": [
    "odds = [1, 3, 7, 9]\n",
    "for num in odds:\n",
    "    print(num)"
   ]
  },
  {
   "cell_type": "markdown",
   "metadata": {},
   "source": [
    "We can combine for loops and if/else statements to check values (and do things) while iterating through a collection. \n",
    "\n",
    "There are more efficient ways to do the following, but this is an easy-to-read version. We'll also stack a variety of conditionals into a single if statement using the or operator."
   ]
  },
  {
   "cell_type": "code",
   "execution_count": 83,
   "metadata": {},
   "outputs": [
    {
     "name": "stdout",
     "output_type": "stream",
     "text": [
      "1 is odd\n",
      "2 is even\n",
      "3 is odd\n",
      "4 is even\n",
      "5 is odd\n",
      "6 is even\n",
      "7 is odd\n",
      "8 is even\n",
      "9 is odd\n"
     ]
    }
   ],
   "source": [
    "nums = [1,2,3,4,5,6,7,8,9]\n",
    "\n",
    "for num in nums:\n",
    "    if num == 1 or num == 3 or num == 5 or num == 7 or num == 9:\n",
    "        print(num, \"is odd\")\n",
    "    else:\n",
    "        print(num, \"is even\")"
   ]
  },
  {
   "cell_type": "markdown",
   "metadata": {},
   "source": [
    "### Looping in pandas dataframes\n",
    "Dataframes require specific functions to use a for loop effectively. .iterrows(), for example, iterates over each row in the dataframe, returning something called a \"Series\" for each row. "
   ]
  },
  {
   "cell_type": "code",
   "execution_count": 84,
   "metadata": {},
   "outputs": [
    {
     "name": "stdout",
     "output_type": "stream",
     "text": [
      "Wow, these were some really expensive movies:\n",
      "47 Ronin\n",
      "Avatar\n",
      "Battleship\n",
      "Harry Potter and the Half-Blood Prince\n",
      "John Carter\n",
      "King Kong\n",
      "Man of Steel\n",
      "Men in Black III\n",
      "Pirates of the Caribbean: At World's End\n",
      "Pirates of the Caribbean: Dead Man's Chest\n",
      "Pirates of the Caribbean: On Stranger Tides\n",
      "Quantum of Solace\n",
      "Robin Hood\n",
      "Superman Returns\n",
      "Tangled\n",
      "The Amazing Spider-Man\n",
      "The Chronicles of Narnia: Prince Caspian\n",
      "The Dark Knight Rises\n",
      "The Golden Compass\n",
      "The Hobbit: An Unexpected Journey\n",
      "The Hobbit: The Desolation of Smaug\n",
      "The Lone Ranger\n",
      "Transformers: Revenge of the Fallen\n",
      "X-Men: The Last Stand\n"
     ]
    }
   ],
   "source": [
    "# we could save these to a list instead of printing them up\n",
    "print('Wow, these were some really expensive movies:')\n",
    "for index, row in df.iterrows():\n",
    "    if row['budget'] > 200000000:\n",
    "        print(row['title'])"
   ]
  },
  {
   "cell_type": "markdown",
   "metadata": {},
   "source": [
    "We can combine the pass/fail index — df['binary'] - that we created above to explore which high- and low-budget movies passed the Bechdel test."
   ]
  },
  {
   "cell_type": "code",
   "execution_count": 85,
   "metadata": {},
   "outputs": [
    {
     "name": "stdout",
     "output_type": "stream",
     "text": [
      "Wow, these were some really expensive movies, but at least they passed the Bechdel test: \n",
      "\n",
      "Harry Potter and the Half-Blood Prince (2009, 'PASS')\n",
      "John Carter (2012, 'PASS')\n",
      "Man of Steel (2013, 'PASS')\n",
      "Pirates of the Caribbean: At World's End (2007, 'PASS')\n",
      "Tangled (2010, 'PASS')\n",
      "The Chronicles of Narnia: Prince Caspian (2008, 'PASS')\n",
      "The Golden Compass (2007, 'PASS')\n",
      "Transformers: Revenge of the Fallen (2009, 'PASS')\n",
      "X-Men: The Last Stand (2006, 'PASS')\n"
     ]
    }
   ],
   "source": [
    "print(\"Wow, these were some really expensive movies, but at least they passed the Bechdel test:\", '\\n')\n",
    "for index, row in df.iterrows():\n",
    "    if row['budget'] > 200000000 and 'PASS' in index: # $200 million + movies!\n",
    "        print(row['title'], index)"
   ]
  },
  {
   "cell_type": "code",
   "execution_count": 86,
   "metadata": {},
   "outputs": [
    {
     "name": "stdout",
     "output_type": "stream",
     "text": [
      "Another Earth (2011, 'PASS')\n",
      "Chasing Amy (1997, 'PASS')\n",
      "Circumstance (2011, 'PASS')\n",
      "Funny Ha Ha (2002, 'PASS')\n",
      "Hard Candy (2005, 'PASS')\n",
      "Like Crazy (2011, 'PASS')\n",
      "London To Brighton (2006, 'PASS')\n",
      "Love and Other Catastrophes (1996, 'PASS')\n",
      "Lovely and Amazing (2001, 'PASS')\n",
      "Pieces of April (1993, 'PASS')\n",
      "Pink Flamingos (1972, 'PASS')\n",
      "Quinceanera (2006, 'PASS')\n",
      "Safety Not Guaranteed (2012, 'PASS')\n",
      "Sisters in Law (2005, 'PASS')\n",
      "Slacker (1991, 'PASS')\n",
      "The Blair Witch Project (1999, 'PASS')\n",
      "The Incredibly True Adventures of Two Girls in Love (1995, 'PASS')\n",
      "Tiny Furniture (2010, 'PASS')\n",
      "Undead (2003, 'PASS')\n",
      "Welcome to the Dollhouse (1995, 'PASS')\n",
      "Wendy and Lucy (2008, 'PASS')\n",
      "When the Cat's Away (1996, 'PASS')\n",
      "Yesterday Was a Lie (2009, 'PASS')\n",
      "Your Sister's Sister (2011, 'PASS')\n"
     ]
    }
   ],
   "source": [
    "# low budget movies\n",
    "for index, row in df.iterrows():\n",
    "    if row['budget'] < 1000000 and 'PASS' in index: # Less than a million $\n",
    "        print(row['title'], index)"
   ]
  },
  {
   "cell_type": "markdown",
   "metadata": {},
   "source": [
    "We could put this all together and create a new column to track different levels of movie budgets, and then compare how many films in each category pass the Bechdel test."
   ]
  },
  {
   "cell_type": "code",
   "execution_count": 87,
   "metadata": {},
   "outputs": [
    {
     "name": "stderr",
     "output_type": "stream",
     "text": [
      "/anaconda3/lib/python3.7/site-packages/ipykernel/ipkernel.py:208: PerformanceWarning: indexing past lexsort depth may impact performance.\n",
      "  res = shell.run_cell(code, store_history=store_history, silent=silent)\n",
      "/anaconda3/lib/python3.7/site-packages/IPython/core/interactiveshell.py:2662: PerformanceWarning: indexing past lexsort depth may impact performance.\n",
      "  raw_cell, store_history, silent, shell_futures)\n"
     ]
    }
   ],
   "source": [
    "for index, row in df.iterrows():\n",
    "    if row['budget'] < 1000000: #100k\n",
    "        df.loc[index,'budget_class'] = \"cheap\"\n",
    "    elif row['budget'] > 1000000 and row['budget'] < 50000000:\n",
    "        df.loc[index,'budget_class'] = \"medium\"\n",
    "    elif row['budget'] > 50000000:\n",
    "        df.loc[index,'budget_class'] = \"expensive\""
   ]
  },
  {
   "cell_type": "code",
   "execution_count": 88,
   "metadata": {},
   "outputs": [],
   "source": [
    "df.reset_index(inplace=True)"
   ]
  },
  {
   "cell_type": "code",
   "execution_count": 89,
   "metadata": {},
   "outputs": [],
   "source": [
    "df.set_index(['budget_class', 'binary'], inplace = True)"
   ]
  },
  {
   "cell_type": "code",
   "execution_count": 90,
   "metadata": {},
   "outputs": [
    {
     "name": "stdout",
     "output_type": "stream",
     "text": [
      "Cheap movies:\n",
      "93 pass :  6 fail \n",
      "\n",
      "Mid-level movies:\n",
      "586 pass :  511 fail \n",
      "\n",
      "Expensive movies:\n",
      "123 pass :  474 fail \n",
      "\n"
     ]
    },
    {
     "name": "stderr",
     "output_type": "stream",
     "text": [
      "/anaconda3/lib/python3.7/site-packages/ipykernel_launcher.py:2: PerformanceWarning: indexing past lexsort depth may impact performance.\n",
      "  \n",
      "/anaconda3/lib/python3.7/site-packages/ipykernel_launcher.py:5: PerformanceWarning: indexing past lexsort depth may impact performance.\n",
      "  \"\"\"\n",
      "/anaconda3/lib/python3.7/site-packages/ipykernel_launcher.py:8: PerformanceWarning: indexing past lexsort depth may impact performance.\n",
      "  \n"
     ]
    }
   ],
   "source": [
    "print('Cheap movies:')\n",
    "print(df.loc['cheap','PASS']['title'].count(), 'pass : ', df.loc['cheap','FAIL']['title'].count(), 'fail \\n')\n",
    "\n",
    "print('Mid-level movies:')\n",
    "print(df.loc['medium','PASS']['title'].count(), 'pass : ', df.loc['medium','FAIL']['title'].count(), 'fail \\n')\n",
    "\n",
    "print('Expensive movies:')\n",
    "print(df.loc['expensive','PASS']['title'].count(), 'pass : ', df.loc['expensive','FAIL']['title'].count(), 'fail \\n')\n"
   ]
  },
  {
   "cell_type": "markdown",
   "metadata": {},
   "source": [
    "### Functions\n",
    "We could make the above much more efficient, and also more extensible by using a function.\n",
    "\n",
    "- All functions have a return value.\n",
    "- If there is no return inside the code, the return value is None.\n",
    "- Functions can be used like any other data type\n",
    "\n",
    "You can define a new function using 'def'.\n",
    "\n",
    "This function, which we'll call 'power' accepts two parameters: x and y. Since y has a default value of 2, if the user doesn't enter a number this will raise x to the value of two.\n",
    "\n",
    "The first line of the function is a way to describe what the function does in a string comment (using three quotes allows the comment to wrap across multiple lines).\n",
    "\n",
    "The second line assigns a new variable, retval, using the x and y values entered when one calls the function.\n",
    "\n",
    "The third line returns the retval value."
   ]
  },
  {
   "cell_type": "code",
   "execution_count": 91,
   "metadata": {},
   "outputs": [
    {
     "data": {
      "text/plain": [
       "4"
      ]
     },
     "execution_count": 91,
     "metadata": {},
     "output_type": "execute_result"
    }
   ],
   "source": [
    "def power(x, y=2):\n",
    "    '''Raises the value of x to the y-th power'''\n",
    "    retval = x ** y\n",
    "    return retval"
   ]
  },
  {
   "cell_type": "markdown",
   "metadata": {},
   "source": [
    "We can now call the function in the same way we would call any pre-defined Python functions."
   ]
  },
  {
   "cell_type": "code",
   "execution_count": 92,
   "metadata": {},
   "outputs": [
    {
     "data": {
      "text/plain": [
       "4"
      ]
     },
     "execution_count": 92,
     "metadata": {},
     "output_type": "execute_result"
    }
   ],
   "source": [
    "power(2)"
   ]
  },
  {
   "cell_type": "code",
   "execution_count": 93,
   "metadata": {},
   "outputs": [
    {
     "data": {
      "text/plain": [
       "8"
      ]
     },
     "execution_count": 93,
     "metadata": {},
     "output_type": "execute_result"
    }
   ],
   "source": [
    "power(2, 3)"
   ]
  },
  {
   "cell_type": "code",
   "execution_count": 95,
   "metadata": {},
   "outputs": [
    {
     "data": {
      "text/plain": [
       "1048576"
      ]
     },
     "execution_count": 95,
     "metadata": {},
     "output_type": "execute_result"
    }
   ],
   "source": [
    "power(4,10)"
   ]
  },
  {
   "cell_type": "markdown",
   "metadata": {},
   "source": [
    "Another way to calculate budget categories would be to write a function and then use df.apply() to call the function. Here's our own budget_check() function."
   ]
  },
  {
   "cell_type": "code",
   "execution_count": 96,
   "metadata": {},
   "outputs": [],
   "source": [
    "def budget_check(row):\n",
    "    if row['budget'] < 1000000:\n",
    "        return 'cheap'\n",
    "    elif row['budget'] > 1000000 and row['budget'] < 50000000:\n",
    "        return 'medium'\n",
    "    else: \n",
    "        return 'expensive'    "
   ]
  },
  {
   "cell_type": "markdown",
   "metadata": {},
   "source": [
    "There's no output to the function itself, because we still need to run it by passing it as a parameter to df.apply()."
   ]
  },
  {
   "cell_type": "code",
   "execution_count": 97,
   "metadata": {},
   "outputs": [],
   "source": [
    "df['budget_check'] = df.apply(budget_check, axis = 1)"
   ]
  },
  {
   "cell_type": "markdown",
   "metadata": {},
   "source": [
    "Now we can just count the occurrence of each possible column value."
   ]
  },
  {
   "cell_type": "code",
   "execution_count": 98,
   "metadata": {},
   "outputs": [
    {
     "data": {
      "text/plain": [
       "medium       1134\n",
       "expensive     609\n",
       "cheap          51\n",
       "Name: budget_check, dtype: int64"
      ]
     },
     "execution_count": 98,
     "metadata": {},
     "output_type": "execute_result"
    }
   ],
   "source": [
    "df['budget_check'].value_counts()"
   ]
  },
  {
   "cell_type": "markdown",
   "metadata": {},
   "source": [
    "You can continue to look at various configurations of the Bechdel data, by assigning the 'budget_check' column as an index and writing new functions or other code to output your results!"
   ]
  }
 ],
 "metadata": {
  "kernelspec": {
   "display_name": "Python 3",
   "language": "python",
   "name": "python3"
  },
  "language_info": {
   "codemirror_mode": {
    "name": "ipython",
    "version": 3
   },
   "file_extension": ".py",
   "mimetype": "text/x-python",
   "name": "python",
   "nbconvert_exporter": "python",
   "pygments_lexer": "ipython3",
   "version": "3.7.0"
  }
 },
 "nbformat": 4,
 "nbformat_minor": 2
}
